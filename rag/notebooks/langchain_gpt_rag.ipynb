{
 "cells": [
  {
   "cell_type": "markdown",
   "metadata": {},
   "source": [
    "## Langchain using ChatGPT models - RAG"
   ]
  },
  {
   "cell_type": "markdown",
   "metadata": {},
   "source": [
    "### Import packages"
   ]
  },
  {
   "cell_type": "code",
   "execution_count": 1,
   "metadata": {},
   "outputs": [
    {
     "name": "stderr",
     "output_type": "stream",
     "text": [
      "/home/babi/miniconda3/envs/tenx_week6/lib/python3.12/site-packages/tqdm/auto.py:21: TqdmWarning: IProgress not found. Please update jupyter and ipywidgets. See https://ipywidgets.readthedocs.io/en/stable/user_install.html\n",
      "  from .autonotebook import tqdm as notebook_tqdm\n",
      "None of PyTorch, TensorFlow >= 2.0, or Flax have been found. Models won't be available and only tokenizers, configuration and file/data utilities can be used.\n"
     ]
    }
   ],
   "source": [
    "from langchain.document_loaders import TextLoader\n",
    "from langchain.text_splitter import CharacterTextSplitter  \n",
    "from langchain.chat_models import ChatOpenAI\n",
    "from langchain.prompts import ChatPromptTemplate\n",
    "from langchain.schema.runnable import RunnablePassthrough\n",
    "from langchain.schema.output_parser import StrOutputParser\n",
    "from langchain.vectorstores import Weaviate\n",
    "from langchain_community.embeddings import HuggingFaceEmbeddings\n",
    "from langchain import HuggingFacePipeline\n",
    "from langchain.agents import AgentType, initialize_agent\n",
    "from langchain.schema import SystemMessage\n",
    "from langchain.embeddings import OpenAIEmbeddings\n",
    "\n",
    "from transformers import AutoModelForCausalLM, AutoTokenizer, GenerationConfig, pipeline, BitsAndBytesConfig\n",
    "\n",
    "from typing import List, Optional, Union\n",
    "import weaviate\n",
    "from weaviate.embedded import EmbeddedOptions\n",
    "import weaviate\n",
    "from weaviate.embedded import EmbeddedOptions\n",
    "from dotenv import load_dotenv,find_dotenv"
   ]
  },
  {
   "cell_type": "code",
   "execution_count": 2,
   "metadata": {},
   "outputs": [],
   "source": [
    "def data_loader(file_path: str, chunk_size: int = 500, chunk_overlap: int = 50) -> Union[List[str], None]:\n",
    "    \"\"\"\n",
    "    Load data from a file, split it into chunks, and return the chunks.\n",
    "\n",
    "    Parameters:\n",
    "    - file_path (str): The path to the file containing the data.\n",
    "    - chunk_size (int): The size of each data chunk. Default is 500.\n",
    "    - database (int): The overlap between consecutive chunks. Default is 50.\n",
    "\n",
    "    Returns:\n",
    "    - list: A list of data chunks.\n",
    "    \"\"\"\n",
    "    try:\n",
    "        loader = TextLoader(file_path)\n",
    "        documents = loader.load()\n",
    "\n",
    "        # Chunk the data\n",
    "        text_splitter = CharacterTextSplitter(chunk_size=chunk_size, chunk_overlap=chunk_overlap)\n",
    "        chunks = text_splitter.split_documents(documents)\n",
    "        \n",
    "        print(\"Data loaded to vector database successfully\")\n",
    "        return chunks\n",
    "    except Exception as e:\n",
    "        print(f\"An unexpected error occurred: {e}\")\n",
    "        return None \n",
    "    \n",
    "    \n",
    "def create_retriever(chunks):\n",
    "    try:\n",
    "        # Load OpenAI API key from .env file\n",
    "        load_dotenv(find_dotenv())\n",
    "        #  Setup vector database\n",
    "        client = weaviate.Client(embedded_options=EmbeddedOptions())\n",
    "\n",
    "        # Populate vector database using embeddings from the Hugging Face model\n",
    "        vectorstore = Weaviate.from_documents(\n",
    "            client=client,\n",
    "            documents=chunks,\n",
    "            embedding=OpenAIEmbeddings(),  # Use the model's encode function for embeddings\n",
    "            by_text=False\n",
    "        )\n",
    "\n",
    "        # Define vectorstore as retriever to enable semantic search\n",
    "        retriever = vectorstore.as_retriever()\n",
    "        print(\"Retriever created successfully.\")\n",
    "\n",
    "        return retriever\n",
    "\n",
    "    except Exception as e:\n",
    "        print(f\"An unexpected error occurred: {e}\")\n",
    "        return None"
   ]
  },
  {
   "cell_type": "markdown",
   "metadata": {},
   "source": [
    "### Load the data and create chunks"
   ]
  },
  {
   "cell_type": "code",
   "execution_count": 3,
   "metadata": {},
   "outputs": [
    {
     "name": "stdout",
     "output_type": "stream",
     "text": [
      "Data loaded to vector database successfully\n"
     ]
    },
    {
     "data": {
      "text/plain": [
       "9"
      ]
     },
     "execution_count": 3,
     "metadata": {},
     "output_type": "execute_result"
    }
   ],
   "source": [
    "chuncks = data_loader(\"../prompts/context.txt\")\n",
    "len(chuncks)"
   ]
  },
  {
   "cell_type": "markdown",
   "metadata": {},
   "source": [
    "### Create the retriver"
   ]
  },
  {
   "cell_type": "code",
   "execution_count": 4,
   "metadata": {},
   "outputs": [
    {
     "name": "stdout",
     "output_type": "stream",
     "text": [
      "Started /home/babi/.cache/weaviate-embedded: process ID 19560\n"
     ]
    },
    {
     "name": "stderr",
     "output_type": "stream",
     "text": [
      "{\"action\":\"startup\",\"default_vectorizer_module\":\"none\",\"level\":\"info\",\"msg\":\"the default vectorizer modules is set to \\\"none\\\", as a result all new schema classes without an explicit vectorizer setting, will use this vectorizer\",\"time\":\"2024-02-01T14:50:42+03:00\"}\n",
      "{\"action\":\"startup\",\"auto_schema_enabled\":true,\"level\":\"info\",\"msg\":\"auto schema enabled setting is set to \\\"true\\\"\",\"time\":\"2024-02-01T14:50:42+03:00\"}\n",
      "{\"level\":\"info\",\"msg\":\"No resource limits set, weaviate will use all available memory and CPU. To limit resources, set LIMIT_RESOURCES=true\",\"time\":\"2024-02-01T14:50:42+03:00\"}\n",
      "{\"level\":\"warning\",\"msg\":\"Multiple vector spaces are present, GraphQL Explore and REST API list objects endpoint module include params has been disabled as a result.\",\"time\":\"2024-02-01T14:50:42+03:00\"}\n",
      "{\"action\":\"grpc_startup\",\"level\":\"info\",\"msg\":\"grpc server listening at [::]:50060\",\"time\":\"2024-02-01T14:50:42+03:00\"}\n",
      "{\"action\":\"restapi_management\",\"level\":\"info\",\"msg\":\"Serving weaviate at http://127.0.0.1:8079\",\"time\":\"2024-02-01T14:50:42+03:00\"}\n",
      "/home/babi/miniconda3/envs/tenx_week6/lib/python3.12/site-packages/weaviate/warnings.py:121: DeprecationWarning: Dep005: You are using weaviate-client version 3.26.1. The latest version is 4.4.0.\n",
      "            Please consider upgrading to the latest version. See https://weaviate.io/developers/weaviate/client-libraries/python for details.\n",
      "  warnings.warn(\n",
      "/home/babi/miniconda3/envs/tenx_week6/lib/python3.12/site-packages/langchain_core/_api/deprecation.py:117: LangChainDeprecationWarning: The class `langchain_community.embeddings.openai.OpenAIEmbeddings` was deprecated in langchain-community 0.1.0 and will be removed in 0.2.0. An updated version of the class exists in the langchain-openai package and should be used instead. To use it run `pip install -U langchain-openai` and import as `from langchain_openai import OpenAIEmbeddings`.\n",
      "  warn_deprecated(\n",
      "{\"level\":\"info\",\"msg\":\"Completed loading shard langchain_0a43cce8a9f54813a3ad4f3d498d6434_NISdUtmHet4a in 936.105µs\",\"time\":\"2024-02-01T14:50:43+03:00\"}\n",
      "{\"level\":\"info\",\"msg\":\"Completed loading shard langchain_0312ef7773c64bd5a9d3d2ba96f090fb_0TLKGeLxTnEG in 1.510146ms\",\"time\":\"2024-02-01T14:50:43+03:00\"}\n",
      "{\"action\":\"hnsw_vector_cache_prefill\",\"count\":3000,\"index_id\":\"main\",\"level\":\"info\",\"limit\":1000000000000,\"msg\":\"prefilled vector cache\",\"time\":\"2024-02-01T14:50:43+03:00\",\"took\":100842}\n",
      "{\"level\":\"info\",\"msg\":\"Completed loading shard langchain_094829e85d36449ab3b283e1ac2fbf04_vqcZmuLhfJ9y in 3.251243ms\",\"time\":\"2024-02-01T14:50:43+03:00\"}\n",
      "{\"level\":\"info\",\"msg\":\"Completed loading shard langchain_044064392d3242a8a33f73f528a27f1d_92wb8jcjigPk in 3.332867ms\",\"time\":\"2024-02-01T14:50:43+03:00\"}\n",
      "{\"level\":\"info\",\"msg\":\"Completed loading shard langchain_12d21afc8bd941749f3413f7862f3a0e_LJQY2or5Gsvq in 2.640013ms\",\"time\":\"2024-02-01T14:50:43+03:00\"}\n",
      "{\"action\":\"hnsw_vector_cache_prefill\",\"count\":3000,\"index_id\":\"main\",\"level\":\"info\",\"limit\":1000000000000,\"msg\":\"prefilled vector cache\",\"time\":\"2024-02-01T14:50:43+03:00\",\"took\":112335}\n",
      "{\"action\":\"hnsw_vector_cache_prefill\",\"count\":3000,\"index_id\":\"main\",\"level\":\"info\",\"limit\":1000000000000,\"msg\":\"prefilled vector cache\",\"time\":\"2024-02-01T14:50:43+03:00\",\"took\":211192}\n",
      "{\"action\":\"hnsw_vector_cache_prefill\",\"count\":3000,\"index_id\":\"main\",\"level\":\"info\",\"limit\":1000000000000,\"msg\":\"prefilled vector cache\",\"time\":\"2024-02-01T14:50:43+03:00\",\"took\":261406}\n",
      "{\"level\":\"info\",\"msg\":\"Completed loading shard langchain_00b249fe17924277a770d96c9dcbaff0_tfPI911fNk1H in 4.114172ms\",\"time\":\"2024-02-01T14:50:43+03:00\"}\n",
      "{\"level\":\"info\",\"msg\":\"Completed loading shard langchain_0b81d9e3eaff430ca773ae73e8746670_O2AHC9ofO3bw in 3.690763ms\",\"time\":\"2024-02-01T14:50:43+03:00\"}\n",
      "{\"action\":\"hnsw_vector_cache_prefill\",\"count\":3000,\"index_id\":\"main\",\"level\":\"info\",\"limit\":1000000000000,\"msg\":\"prefilled vector cache\",\"time\":\"2024-02-01T14:50:43+03:00\",\"took\":131916}\n",
      "{\"action\":\"hnsw_vector_cache_prefill\",\"count\":3000,\"index_id\":\"main\",\"level\":\"info\",\"limit\":1000000000000,\"msg\":\"prefilled vector cache\",\"time\":\"2024-02-01T14:50:43+03:00\",\"took\":158411}\n",
      "{\"action\":\"hnsw_vector_cache_prefill\",\"count\":3000,\"index_id\":\"main\",\"level\":\"info\",\"limit\":1000000000000,\"msg\":\"prefilled vector cache\",\"time\":\"2024-02-01T14:50:43+03:00\",\"took\":125458}\n",
      "{\"level\":\"info\",\"msg\":\"Completed loading shard langchain_19638f81ce5d4b4e9b9413567833f7ce_G1GroA34q0mL in 49.493702ms\",\"time\":\"2024-02-01T14:50:43+03:00\"}\n",
      "{\"action\":\"hnsw_vector_cache_prefill\",\"count\":3000,\"index_id\":\"main\",\"level\":\"info\",\"limit\":1000000000000,\"msg\":\"prefilled vector cache\",\"time\":\"2024-02-01T14:50:43+03:00\",\"took\":139671}\n",
      "{\"level\":\"info\",\"msg\":\"Completed loading shard langchain_2a1799d0d2e64a7caaf0555f78a153c5_pf7MdKvEjIY6 in 49.526007ms\",\"time\":\"2024-02-01T14:50:43+03:00\"}\n",
      "{\"action\":\"hnsw_vector_cache_prefill\",\"count\":3000,\"index_id\":\"main\",\"level\":\"info\",\"limit\":1000000000000,\"msg\":\"prefilled vector cache\",\"time\":\"2024-02-01T14:50:43+03:00\",\"took\":84461}\n",
      "{\"level\":\"info\",\"msg\":\"Completed loading shard langchain_27909b9fdb7a488d8ff0a8d01137ed9a_IFose2oTztrN in 74.660549ms\",\"time\":\"2024-02-01T14:50:43+03:00\"}\n",
      "{\"level\":\"info\",\"msg\":\"Completed loading shard langchain_ca8ec0bb08804f2f855837a6932b5460_hBfuKUptHV8z in 57.221221ms\",\"time\":\"2024-02-01T14:50:43+03:00\"}\n",
      "{\"action\":\"hnsw_vector_cache_prefill\",\"count\":3000,\"index_id\":\"main\",\"level\":\"info\",\"limit\":1000000000000,\"msg\":\"prefilled vector cache\",\"time\":\"2024-02-01T14:50:43+03:00\",\"took\":95797}\n",
      "{\"action\":\"hnsw_vector_cache_prefill\",\"count\":3000,\"index_id\":\"main\",\"level\":\"info\",\"limit\":1000000000000,\"msg\":\"prefilled vector cache\",\"time\":\"2024-02-01T14:50:43+03:00\",\"took\":93615}\n",
      "{\"level\":\"info\",\"msg\":\"Completed loading shard langchain_1f41348bf9cd4390b44def9261cf2bc8_XKxlbIuwtk65 in 77.955612ms\",\"time\":\"2024-02-01T14:50:43+03:00\"}\n",
      "{\"level\":\"info\",\"msg\":\"Completed loading shard langchain_5125cd6873384faa9eb7e1ce526d7323_ZPDkffgDLlLD in 55.991735ms\",\"time\":\"2024-02-01T14:50:43+03:00\"}\n",
      "{\"action\":\"hnsw_vector_cache_prefill\",\"count\":3000,\"index_id\":\"main\",\"level\":\"info\",\"limit\":1000000000000,\"msg\":\"prefilled vector cache\",\"time\":\"2024-02-01T14:50:43+03:00\",\"took\":92610}\n",
      "{\"level\":\"info\",\"msg\":\"Completed loading shard langchain_79e2deca675b44f1b61e27b674dd9659_urhVawsDj8pD in 56.139899ms\",\"time\":\"2024-02-01T14:50:43+03:00\"}\n",
      "{\"action\":\"hnsw_vector_cache_prefill\",\"count\":3000,\"index_id\":\"main\",\"level\":\"info\",\"limit\":1000000000000,\"msg\":\"prefilled vector cache\",\"time\":\"2024-02-01T14:50:43+03:00\",\"took\":660011}\n",
      "{\"action\":\"hnsw_vector_cache_prefill\",\"count\":3000,\"index_id\":\"main\",\"level\":\"info\",\"limit\":1000000000000,\"msg\":\"prefilled vector cache\",\"time\":\"2024-02-01T14:50:43+03:00\",\"took\":94226}\n",
      "{\"level\":\"info\",\"msg\":\"Completed loading shard langchain_9ef38c5f9b6541ce803b756a43c4f2c8_H51zBeBv8ZGC in 59.912568ms\",\"time\":\"2024-02-01T14:50:43+03:00\"}\n",
      "{\"action\":\"hnsw_vector_cache_prefill\",\"count\":3000,\"index_id\":\"main\",\"level\":\"info\",\"limit\":1000000000000,\"msg\":\"prefilled vector cache\",\"time\":\"2024-02-01T14:50:43+03:00\",\"took\":82127}\n",
      "{\"level\":\"info\",\"msg\":\"Completed loading shard langchain_a136104104f14d6ab12f98e6d39d11ca_1sAiUUcGKQew in 59.197872ms\",\"time\":\"2024-02-01T14:50:43+03:00\"}\n",
      "{\"action\":\"hnsw_vector_cache_prefill\",\"count\":3000,\"index_id\":\"main\",\"level\":\"info\",\"limit\":1000000000000,\"msg\":\"prefilled vector cache\",\"time\":\"2024-02-01T14:50:43+03:00\",\"took\":89497}\n",
      "{\"level\":\"info\",\"msg\":\"Completed loading shard langchain_198c544d7c454b1eb547b172cbd3d3f2_Zoub04C5GCZy in 80.124718ms\",\"time\":\"2024-02-01T14:50:43+03:00\"}\n",
      "{\"action\":\"hnsw_vector_cache_prefill\",\"count\":3000,\"index_id\":\"main\",\"level\":\"info\",\"limit\":1000000000000,\"msg\":\"prefilled vector cache\",\"time\":\"2024-02-01T14:50:43+03:00\",\"took\":86403}\n",
      "{\"level\":\"info\",\"msg\":\"Completed loading shard langchain_64e8bc4c10c144a2ad58860149b405d1_86sJWLTUFxo5 in 92.029951ms\",\"time\":\"2024-02-01T14:50:43+03:00\"}\n",
      "{\"action\":\"hnsw_vector_cache_prefill\",\"count\":3000,\"index_id\":\"main\",\"level\":\"info\",\"limit\":1000000000000,\"msg\":\"prefilled vector cache\",\"time\":\"2024-02-01T14:50:43+03:00\",\"took\":106487}\n",
      "{\"level\":\"info\",\"msg\":\"Completed loading shard langchain_b7a0bda536a0440180ce6d5bb90cf02d_wrktB5e6743b in 95.160465ms\",\"time\":\"2024-02-01T14:50:43+03:00\"}\n",
      "{\"action\":\"hnsw_vector_cache_prefill\",\"count\":3000,\"index_id\":\"main\",\"level\":\"info\",\"limit\":1000000000000,\"msg\":\"prefilled vector cache\",\"time\":\"2024-02-01T14:50:43+03:00\",\"took\":91835}\n",
      "{\"level\":\"info\",\"msg\":\"Completed loading shard langchain_653cbe3e6689480293e4a8215b930959_nlo2bDOgVacv in 93.921666ms\",\"time\":\"2024-02-01T14:50:43+03:00\"}\n",
      "{\"level\":\"info\",\"msg\":\"Completed loading shard langchain_b3743bfe41ae4f54a2f9419c91f60511_oBMpY4s7j7gS in 93.192692ms\",\"time\":\"2024-02-01T14:50:43+03:00\"}\n",
      "{\"action\":\"hnsw_vector_cache_prefill\",\"count\":3000,\"index_id\":\"main\",\"level\":\"info\",\"limit\":1000000000000,\"msg\":\"prefilled vector cache\",\"time\":\"2024-02-01T14:50:43+03:00\",\"took\":76060}\n",
      "{\"level\":\"info\",\"msg\":\"Completed loading shard langchain_a6eba2f152244c3eb5656ab1e7af625f_6dNvW4KhHxxV in 93.90434ms\",\"time\":\"2024-02-01T14:50:43+03:00\"}\n",
      "{\"level\":\"info\",\"msg\":\"Completed loading shard langchain_78ed6a839d3c4511afbea769d07fa4b4_tVW90pJotLEI in 92.594707ms\",\"time\":\"2024-02-01T14:50:43+03:00\"}\n",
      "{\"level\":\"info\",\"msg\":\"Completed loading shard langchain_7b6349d24ab943339c53f093e3c158a9_5zhMpC0u9M4g in 92.087997ms\",\"time\":\"2024-02-01T14:50:43+03:00\"}\n",
      "{\"level\":\"info\",\"msg\":\"Completed loading shard langchain_a7e595f086f94b21ade6a8ae4d084d50_gwFtKePgZAHY in 93.721663ms\",\"time\":\"2024-02-01T14:50:43+03:00\"}\n",
      "{\"action\":\"hnsw_vector_cache_prefill\",\"count\":3000,\"index_id\":\"main\",\"level\":\"info\",\"limit\":1000000000000,\"msg\":\"prefilled vector cache\",\"time\":\"2024-02-01T14:50:43+03:00\",\"took\":152655}\n",
      "{\"action\":\"hnsw_vector_cache_prefill\",\"count\":3000,\"index_id\":\"main\",\"level\":\"info\",\"limit\":1000000000000,\"msg\":\"prefilled vector cache\",\"time\":\"2024-02-01T14:50:43+03:00\",\"took\":109819}\n",
      "{\"action\":\"hnsw_vector_cache_prefill\",\"count\":3000,\"index_id\":\"main\",\"level\":\"info\",\"limit\":1000000000000,\"msg\":\"prefilled vector cache\",\"time\":\"2024-02-01T14:50:43+03:00\",\"took\":111810}\n",
      "{\"level\":\"info\",\"msg\":\"Completed loading shard langchain_239d2792dc5e4e2abbb2c8c36f96f9c2_j3K0Ny9bkKfi in 114.528854ms\",\"time\":\"2024-02-01T14:50:43+03:00\"}\n",
      "{\"level\":\"info\",\"msg\":\"Completed loading shard langchain_2287c33037f843a0a691ee7c3ca217ff_UHNPzeo6TFps in 114.888475ms\",\"time\":\"2024-02-01T14:50:43+03:00\"}\n",
      "{\"action\":\"hnsw_vector_cache_prefill\",\"count\":3000,\"index_id\":\"main\",\"level\":\"info\",\"limit\":1000000000000,\"msg\":\"prefilled vector cache\",\"time\":\"2024-02-01T14:50:43+03:00\",\"took\":683440}\n",
      "{\"action\":\"hnsw_vector_cache_prefill\",\"count\":3000,\"index_id\":\"main\",\"level\":\"info\",\"limit\":1000000000000,\"msg\":\"prefilled vector cache\",\"time\":\"2024-02-01T14:50:43+03:00\",\"took\":109654}\n",
      "{\"action\":\"hnsw_vector_cache_prefill\",\"count\":3000,\"index_id\":\"main\",\"level\":\"info\",\"limit\":1000000000000,\"msg\":\"prefilled vector cache\",\"time\":\"2024-02-01T14:50:43+03:00\",\"took\":83233}\n",
      "{\"level\":\"info\",\"msg\":\"Completed loading shard langchain_fdee1dcd1aa348acac39bccdbdaddd81_R7hDToyb91tX in 93.111279ms\",\"time\":\"2024-02-01T14:50:43+03:00\"}\n",
      "{\"action\":\"hnsw_vector_cache_prefill\",\"count\":3000,\"index_id\":\"main\",\"level\":\"info\",\"limit\":1000000000000,\"msg\":\"prefilled vector cache\",\"time\":\"2024-02-01T14:50:43+03:00\",\"took\":92601}\n",
      "{\"action\":\"hnsw_vector_cache_prefill\",\"count\":3000,\"index_id\":\"main\",\"level\":\"info\",\"limit\":1000000000000,\"msg\":\"prefilled vector cache\",\"time\":\"2024-02-01T14:50:43+03:00\",\"took\":1702649}\n",
      "{\"level\":\"info\",\"msg\":\"Completed loading shard langchain_d9ee0a6d3bac401d885a09b6138ab928_uwTQuRilvOfW in 96.32467ms\",\"time\":\"2024-02-01T14:50:43+03:00\"}\n",
      "{\"level\":\"info\",\"msg\":\"Completed loading shard langchain_c0d3b805a92741a3b7c67f0d5ba1cfd2_kyK609sNogOA in 93.569459ms\",\"time\":\"2024-02-01T14:50:43+03:00\"}\n",
      "{\"action\":\"hnsw_vector_cache_prefill\",\"count\":3000,\"index_id\":\"main\",\"level\":\"info\",\"limit\":1000000000000,\"msg\":\"prefilled vector cache\",\"time\":\"2024-02-01T14:50:43+03:00\",\"took\":135147}\n",
      "{\"action\":\"hnsw_vector_cache_prefill\",\"count\":3000,\"index_id\":\"main\",\"level\":\"info\",\"limit\":1000000000000,\"msg\":\"prefilled vector cache\",\"time\":\"2024-02-01T14:50:43+03:00\",\"took\":90702}\n",
      "{\"level\":\"info\",\"msg\":\"Completed loading shard langchain_133fb572c0784fe9b7544b27354d2e3a_4kCtu55fH4aJ in 113.140318ms\",\"time\":\"2024-02-01T14:50:43+03:00\"}\n",
      "{\"action\":\"hnsw_vector_cache_prefill\",\"count\":3000,\"index_id\":\"main\",\"level\":\"info\",\"limit\":1000000000000,\"msg\":\"prefilled vector cache\",\"time\":\"2024-02-01T14:50:43+03:00\",\"took\":89333}\n",
      "{\"level\":\"info\",\"msg\":\"Completed loading shard langchain_8d9bdec16c4c4f6ba4e15d9eff33d295_Ogkj7MmeTiXz in 98.572778ms\",\"time\":\"2024-02-01T14:50:43+03:00\"}\n",
      "{\"action\":\"hnsw_vector_cache_prefill\",\"count\":3000,\"index_id\":\"main\",\"level\":\"info\",\"limit\":1000000000000,\"msg\":\"prefilled vector cache\",\"time\":\"2024-02-01T14:50:43+03:00\",\"took\":137899}\n",
      "{\"level\":\"info\",\"msg\":\"Completed loading shard langchain_698f357610544f228bc230b3c3c1c248_yHzTxe2uDT3I in 96.454376ms\",\"time\":\"2024-02-01T14:50:43+03:00\"}\n",
      "{\"level\":\"info\",\"msg\":\"Completed loading shard langchain_5c4e41b7421a4647985e5533c3d52445_Xiw5kXoCgxG9 in 95.906767ms\",\"time\":\"2024-02-01T14:50:43+03:00\"}\n",
      "{\"level\":\"info\",\"msg\":\"Completed loading shard langchain_180a289e3574490dbf5430c128d823ac_c7nS9G1DHDLZ in 116.48639ms\",\"time\":\"2024-02-01T14:50:43+03:00\"}\n",
      "{\"action\":\"hnsw_vector_cache_prefill\",\"count\":3000,\"index_id\":\"main\",\"level\":\"info\",\"limit\":1000000000000,\"msg\":\"prefilled vector cache\",\"time\":\"2024-02-01T14:50:43+03:00\",\"took\":99723}\n",
      "{\"action\":\"hnsw_vector_cache_prefill\",\"count\":3000,\"index_id\":\"main\",\"level\":\"info\",\"limit\":1000000000000,\"msg\":\"prefilled vector cache\",\"time\":\"2024-02-01T14:50:43+03:00\",\"took\":155827}\n",
      "{\"action\":\"hnsw_vector_cache_prefill\",\"count\":3000,\"index_id\":\"main\",\"level\":\"info\",\"limit\":1000000000000,\"msg\":\"prefilled vector cache\",\"time\":\"2024-02-01T14:50:43+03:00\",\"took\":231969}\n",
      "{\"level\":\"info\",\"msg\":\"Completed loading shard langchain_7935ba202d2d46859491fec093850b98_b3zZJgFFSvL1 in 97.970542ms\",\"time\":\"2024-02-01T14:50:43+03:00\"}\n",
      "{\"action\":\"hnsw_vector_cache_prefill\",\"count\":3000,\"index_id\":\"main\",\"level\":\"info\",\"limit\":1000000000000,\"msg\":\"prefilled vector cache\",\"time\":\"2024-02-01T14:50:43+03:00\",\"took\":101192}\n",
      "{\"level\":\"info\",\"msg\":\"Completed loading shard langchain_66b4400d9994425ca7e1eb543bcb3041_MpzRapwC4z4d in 97.957444ms\",\"time\":\"2024-02-01T14:50:43+03:00\"}\n",
      "{\"action\":\"hnsw_vector_cache_prefill\",\"count\":3000,\"index_id\":\"main\",\"level\":\"info\",\"limit\":1000000000000,\"msg\":\"prefilled vector cache\",\"time\":\"2024-02-01T14:50:43+03:00\",\"took\":122820}\n",
      "{\"level\":\"info\",\"msg\":\"Completed loading shard langchain_2f129bb8b4d346e49c6a6f615c27b9fc_iq9fUN2vBUo3 in 117.958108ms\",\"time\":\"2024-02-01T14:50:43+03:00\"}\n",
      "{\"level\":\"info\",\"msg\":\"Completed loading shard langchain_b97061b7057d40be932b575ce78505c3_9RcINbV8bmFI in 98.812172ms\",\"time\":\"2024-02-01T14:50:43+03:00\"}\n",
      "{\"action\":\"hnsw_vector_cache_prefill\",\"count\":3000,\"index_id\":\"main\",\"level\":\"info\",\"limit\":1000000000000,\"msg\":\"prefilled vector cache\",\"time\":\"2024-02-01T14:50:43+03:00\",\"took\":91255}\n",
      "{\"level\":\"info\",\"msg\":\"Completed loading shard langchain_8067657dfd384c87b43b160520e1d2f0_XVZpTN4Qsebf in 100.097271ms\",\"time\":\"2024-02-01T14:50:43+03:00\"}\n",
      "{\"level\":\"info\",\"msg\":\"Completed loading shard langchain_295312e7406a4ee0b553860a79366b18_jW5tizyQXsZ3 in 119.676874ms\",\"time\":\"2024-02-01T14:50:43+03:00\"}\n",
      "{\"action\":\"hnsw_vector_cache_prefill\",\"count\":3000,\"index_id\":\"main\",\"level\":\"info\",\"limit\":1000000000000,\"msg\":\"prefilled vector cache\",\"time\":\"2024-02-01T14:50:43+03:00\",\"took\":161728}\n",
      "{\"level\":\"info\",\"msg\":\"Completed loading shard langchain_3dae534c1d4b4e1d837fe6bf85642817_giWKfwQSgDlY in 101.390951ms\",\"time\":\"2024-02-01T14:50:43+03:00\"}\n",
      "{\"action\":\"hnsw_vector_cache_prefill\",\"count\":3000,\"index_id\":\"main\",\"level\":\"info\",\"limit\":1000000000000,\"msg\":\"prefilled vector cache\",\"time\":\"2024-02-01T14:50:43+03:00\",\"took\":170220}\n",
      "{\"level\":\"info\",\"msg\":\"Completed loading shard langchain_26666663df8145759ff4ae05bfd0b380_ZErds8qG0OhT in 103.463767ms\",\"time\":\"2024-02-01T14:50:43+03:00\"}\n",
      "{\"action\":\"hnsw_vector_cache_prefill\",\"count\":3000,\"index_id\":\"main\",\"level\":\"info\",\"limit\":1000000000000,\"msg\":\"prefilled vector cache\",\"time\":\"2024-02-01T14:50:43+03:00\",\"took\":96279}\n",
      "{\"level\":\"info\",\"msg\":\"Completed loading shard langchain_de50f0b9568f467c9384b78673f0683a_68nOA0yzrnRA in 103.184249ms\",\"time\":\"2024-02-01T14:50:43+03:00\"}\n",
      "{\"level\":\"info\",\"msg\":\"Completed loading shard langchain_e77729ad663b497aa676bf270f0c83a3_4Ffn1FVZwVF8 in 102.716277ms\",\"time\":\"2024-02-01T14:50:43+03:00\"}\n",
      "{\"action\":\"hnsw_vector_cache_prefill\",\"count\":3000,\"index_id\":\"main\",\"level\":\"info\",\"limit\":1000000000000,\"msg\":\"prefilled vector cache\",\"time\":\"2024-02-01T14:50:43+03:00\",\"took\":160226}\n",
      "{\"level\":\"info\",\"msg\":\"Completed loading shard langchain_e8be247f8f6845cdafe8b6affd2734f4_JtXVAls3BTra in 102.959206ms\",\"time\":\"2024-02-01T14:50:43+03:00\"}\n",
      "{\"level\":\"info\",\"msg\":\"Completed loading shard langchain_e48c08666514431698494c67ae945bb7_v4N0QpdDRDvN in 104.049834ms\",\"time\":\"2024-02-01T14:50:43+03:00\"}\n",
      "{\"action\":\"hnsw_vector_cache_prefill\",\"count\":3000,\"index_id\":\"main\",\"level\":\"info\",\"limit\":1000000000000,\"msg\":\"prefilled vector cache\",\"time\":\"2024-02-01T14:50:43+03:00\",\"took\":144098}\n",
      "{\"action\":\"hnsw_vector_cache_prefill\",\"count\":3000,\"index_id\":\"main\",\"level\":\"info\",\"limit\":1000000000000,\"msg\":\"prefilled vector cache\",\"time\":\"2024-02-01T14:50:43+03:00\",\"took\":142201}\n",
      "{\"level\":\"info\",\"msg\":\"Completed loading shard langchain_af6aed16438d479a8de64da5c5e6ecc0_dkyxFf84TnHW in 103.671806ms\",\"time\":\"2024-02-01T14:50:43+03:00\"}\n",
      "{\"action\":\"hnsw_vector_cache_prefill\",\"count\":3000,\"index_id\":\"main\",\"level\":\"info\",\"limit\":1000000000000,\"msg\":\"prefilled vector cache\",\"time\":\"2024-02-01T14:50:43+03:00\",\"took\":150054}\n",
      "{\"level\":\"info\",\"msg\":\"Completed loading shard langchain_50957979f294425586dea6a1fc969dbd_jjAnWw4sTNE0 in 107.162685ms\",\"time\":\"2024-02-01T14:50:43+03:00\"}\n",
      "{\"level\":\"info\",\"msg\":\"Completed loading shard langchain_58545170b3b84b29896475d83524695a_pLaXH0W2gCyA in 103.455517ms\",\"time\":\"2024-02-01T14:50:43+03:00\"}\n",
      "{\"level\":\"info\",\"msg\":\"Completed loading shard langchain_65398c7e512343e69318d8a32888d668_NWaXuCxew4i9 in 104.625182ms\",\"time\":\"2024-02-01T14:50:43+03:00\"}\n",
      "{\"action\":\"hnsw_vector_cache_prefill\",\"count\":3000,\"index_id\":\"main\",\"level\":\"info\",\"limit\":1000000000000,\"msg\":\"prefilled vector cache\",\"time\":\"2024-02-01T14:50:43+03:00\",\"took\":169575}\n",
      "{\"level\":\"info\",\"msg\":\"Completed loading shard langchain_dfad81fac8e04bf9a5dc95399e7c1293_mUFMm1hng3t7 in 106.179793ms\",\"time\":\"2024-02-01T14:50:43+03:00\"}\n",
      "{\"level\":\"info\",\"msg\":\"Completed loading shard langchain_fcc9bc095d134228bb9b7ff8e5f9dd3e_5ImU9dQmww41 in 104.342601ms\",\"time\":\"2024-02-01T14:50:43+03:00\"}\n",
      "{\"action\":\"hnsw_vector_cache_prefill\",\"count\":3000,\"index_id\":\"main\",\"level\":\"info\",\"limit\":1000000000000,\"msg\":\"prefilled vector cache\",\"time\":\"2024-02-01T14:50:43+03:00\",\"took\":171725}\n",
      "{\"level\":\"info\",\"msg\":\"Completed loading shard langchain_a82a03a728dd4873b47137ecec1996da_X880GrXTzAmC in 105.728539ms\",\"time\":\"2024-02-01T14:50:43+03:00\"}\n",
      "{\"action\":\"hnsw_vector_cache_prefill\",\"count\":3000,\"index_id\":\"main\",\"level\":\"info\",\"limit\":1000000000000,\"msg\":\"prefilled vector cache\",\"time\":\"2024-02-01T14:50:43+03:00\",\"took\":92538}\n",
      "{\"level\":\"info\",\"msg\":\"Completed loading shard langchain_1ce42fd9e730438cb975281984762d81_wiq6iQ2n0QO1 in 125.989466ms\",\"time\":\"2024-02-01T14:50:43+03:00\"}\n",
      "{\"action\":\"hnsw_vector_cache_prefill\",\"count\":3000,\"index_id\":\"main\",\"level\":\"info\",\"limit\":1000000000000,\"msg\":\"prefilled vector cache\",\"time\":\"2024-02-01T14:50:43+03:00\",\"took\":285141}\n",
      "{\"level\":\"info\",\"msg\":\"Completed loading shard langchain_21b6e14060cc4d75a382e81ef06cd4c5_DXduIw4MvqFy in 125.035111ms\",\"time\":\"2024-02-01T14:50:43+03:00\"}\n",
      "{\"level\":\"info\",\"msg\":\"Completed loading shard langchain_d35e199e254f4befbfe814bf8c81bf00_G54pfNkYlnpf in 108.275855ms\",\"time\":\"2024-02-01T14:50:43+03:00\"}\n",
      "{\"action\":\"hnsw_vector_cache_prefill\",\"count\":3000,\"index_id\":\"main\",\"level\":\"info\",\"limit\":1000000000000,\"msg\":\"prefilled vector cache\",\"time\":\"2024-02-01T14:50:43+03:00\",\"took\":183816}\n",
      "{\"action\":\"hnsw_vector_cache_prefill\",\"count\":3000,\"index_id\":\"main\",\"level\":\"info\",\"limit\":1000000000000,\"msg\":\"prefilled vector cache\",\"time\":\"2024-02-01T14:50:43+03:00\",\"took\":172614}\n",
      "{\"level\":\"info\",\"msg\":\"Completed loading shard langchain_65be063dba3848e38702e345579822c0_gFAXJdvR3HpP in 106.122147ms\",\"time\":\"2024-02-01T14:50:43+03:00\"}\n",
      "{\"action\":\"hnsw_vector_cache_prefill\",\"count\":3000,\"index_id\":\"main\",\"level\":\"info\",\"limit\":1000000000000,\"msg\":\"prefilled vector cache\",\"time\":\"2024-02-01T14:50:43+03:00\",\"took\":95987}\n",
      "{\"action\":\"hnsw_vector_cache_prefill\",\"count\":3000,\"index_id\":\"main\",\"level\":\"info\",\"limit\":1000000000000,\"msg\":\"prefilled vector cache\",\"time\":\"2024-02-01T14:50:43+03:00\",\"took\":1379355}\n",
      "{\"action\":\"hnsw_vector_cache_prefill\",\"count\":3000,\"index_id\":\"main\",\"level\":\"info\",\"limit\":1000000000000,\"msg\":\"prefilled vector cache\",\"time\":\"2024-02-01T14:50:43+03:00\",\"took\":97923}\n",
      "{\"action\":\"hnsw_vector_cache_prefill\",\"count\":3000,\"index_id\":\"main\",\"level\":\"info\",\"limit\":1000000000000,\"msg\":\"prefilled vector cache\",\"time\":\"2024-02-01T14:50:43+03:00\",\"took\":891420}\n",
      "{\"level\":\"info\",\"msg\":\"Completed loading shard langchain_83bb50859fcf4f7dbda201a126101d39_GjLVFWvBwn0m in 105.891094ms\",\"time\":\"2024-02-01T14:50:43+03:00\"}\n",
      "{\"action\":\"hnsw_vector_cache_prefill\",\"count\":3000,\"index_id\":\"main\",\"level\":\"info\",\"limit\":1000000000000,\"msg\":\"prefilled vector cache\",\"time\":\"2024-02-01T14:50:43+03:00\",\"took\":99979}\n",
      "{\"level\":\"info\",\"msg\":\"Completed loading shard langchain_b9f4450563a54709ab32be6288d775a7_9VwJ8duTANxJ in 108.639692ms\",\"time\":\"2024-02-01T14:50:43+03:00\"}\n",
      "{\"action\":\"hnsw_vector_cache_prefill\",\"count\":3000,\"index_id\":\"main\",\"level\":\"info\",\"limit\":1000000000000,\"msg\":\"prefilled vector cache\",\"time\":\"2024-02-01T14:50:43+03:00\",\"took\":1808265}\n",
      "{\"level\":\"info\",\"msg\":\"Completed loading shard langchain_4d0a9a62ea9d447ab137ed1062a18e7f_qcocbx6c3vWD in 112.248786ms\",\"time\":\"2024-02-01T14:50:43+03:00\"}\n",
      "{\"action\":\"hnsw_vector_cache_prefill\",\"count\":3000,\"index_id\":\"main\",\"level\":\"info\",\"limit\":1000000000000,\"msg\":\"prefilled vector cache\",\"time\":\"2024-02-01T14:50:43+03:00\",\"took\":533888}\n",
      "{\"level\":\"info\",\"msg\":\"Completed loading shard langchain_77882a7b8ff44da5b9929c98bdec7c76_3geFmBVwtOY2 in 110.042688ms\",\"time\":\"2024-02-01T14:50:43+03:00\"}\n",
      "{\"level\":\"info\",\"msg\":\"Completed loading shard langchain_27dcfe368f6b4d958ffa669f7933d370_l6OE6laKks9L in 129.370865ms\",\"time\":\"2024-02-01T14:50:43+03:00\"}\n",
      "{\"level\":\"info\",\"msg\":\"Completed loading shard langchain_25eba5d882d3483890db2a9db02aeb7d_4mehOMtoZRZL in 129.129085ms\",\"time\":\"2024-02-01T14:50:43+03:00\"}\n",
      "{\"level\":\"info\",\"msg\":\"Completed loading shard langchain_c2681a8ffc76420db9d8028730a9c2ed_UFUgjBBDPgWg in 109.533296ms\",\"time\":\"2024-02-01T14:50:43+03:00\"}\n",
      "{\"action\":\"hnsw_vector_cache_prefill\",\"count\":3000,\"index_id\":\"main\",\"level\":\"info\",\"limit\":1000000000000,\"msg\":\"prefilled vector cache\",\"time\":\"2024-02-01T14:50:43+03:00\",\"took\":760881}\n",
      "{\"level\":\"info\",\"msg\":\"Completed loading shard langchain_e96d64b20f0847159e3f8e1a541a9a6d_7xqZq61YOfAj in 113.349172ms\",\"time\":\"2024-02-01T14:50:43+03:00\"}\n",
      "{\"level\":\"info\",\"msg\":\"Completed loading shard langchain_a04ff10c00ed45a1b68617e26958c8fb_EpIpwcDZiTnO in 112.680494ms\",\"time\":\"2024-02-01T14:50:43+03:00\"}\n",
      "{\"action\":\"hnsw_vector_cache_prefill\",\"count\":3000,\"index_id\":\"main\",\"level\":\"info\",\"limit\":1000000000000,\"msg\":\"prefilled vector cache\",\"time\":\"2024-02-01T14:50:43+03:00\",\"took\":112002}\n",
      "{\"level\":\"info\",\"msg\":\"Completed loading shard langchain_a0795a009713456ca35fb1fb03d0eb02_9pzvFtVa9APs in 114.835126ms\",\"time\":\"2024-02-01T14:50:43+03:00\"}\n",
      "{\"level\":\"info\",\"msg\":\"Completed loading shard langchain_5ce0983842194bea9e99d259f65cc4a8_lE0K6y1kCAbu in 115.283ms\",\"time\":\"2024-02-01T14:50:43+03:00\"}\n",
      "{\"action\":\"hnsw_vector_cache_prefill\",\"count\":3000,\"index_id\":\"main\",\"level\":\"info\",\"limit\":1000000000000,\"msg\":\"prefilled vector cache\",\"time\":\"2024-02-01T14:50:43+03:00\",\"took\":155892}\n",
      "{\"action\":\"hnsw_vector_cache_prefill\",\"count\":3000,\"index_id\":\"main\",\"level\":\"info\",\"limit\":1000000000000,\"msg\":\"prefilled vector cache\",\"time\":\"2024-02-01T14:50:43+03:00\",\"took\":140424}\n",
      "{\"action\":\"hnsw_vector_cache_prefill\",\"count\":3000,\"index_id\":\"main\",\"level\":\"info\",\"limit\":1000000000000,\"msg\":\"prefilled vector cache\",\"time\":\"2024-02-01T14:50:43+03:00\",\"took\":155276}\n",
      "{\"level\":\"info\",\"msg\":\"Completed loading shard langchain_a0d8ca61ea114c2baac96643e11e1860_xo4M26CFZDsA in 114.721707ms\",\"time\":\"2024-02-01T14:50:43+03:00\"}\n",
      "{\"action\":\"hnsw_vector_cache_prefill\",\"count\":3000,\"index_id\":\"main\",\"level\":\"info\",\"limit\":1000000000000,\"msg\":\"prefilled vector cache\",\"time\":\"2024-02-01T14:50:43+03:00\",\"took\":322599}\n",
      "{\"level\":\"info\",\"msg\":\"Completed loading shard langchain_8c1807552a88411294e1c3c894e937c0_s5wCRaUUmhQI in 112.617391ms\",\"time\":\"2024-02-01T14:50:43+03:00\"}\n",
      "{\"action\":\"hnsw_vector_cache_prefill\",\"count\":3000,\"index_id\":\"main\",\"level\":\"info\",\"limit\":1000000000000,\"msg\":\"prefilled vector cache\",\"time\":\"2024-02-01T14:50:43+03:00\",\"took\":113108}\n",
      "{\"level\":\"info\",\"msg\":\"Completed loading shard langchain_4b51e0a56e34429294183d836886bbf5_chZtzv3vlG0X in 115.195539ms\",\"time\":\"2024-02-01T14:50:43+03:00\"}\n",
      "{\"action\":\"hnsw_vector_cache_prefill\",\"count\":3000,\"index_id\":\"main\",\"level\":\"info\",\"limit\":1000000000000,\"msg\":\"prefilled vector cache\",\"time\":\"2024-02-01T14:50:43+03:00\",\"took\":106055}\n",
      "{\"level\":\"info\",\"msg\":\"Completed loading shard langchain_7b7f5764552a48a7af2fcbbc8a09143e_3COgv4JNXIVP in 114.452923ms\",\"time\":\"2024-02-01T14:50:43+03:00\"}\n",
      "{\"level\":\"info\",\"msg\":\"Completed loading shard langchain_3773278af3bf44c6974be51681bd1435_rGM6mbuHbah4 in 116.204991ms\",\"time\":\"2024-02-01T14:50:43+03:00\"}\n",
      "{\"level\":\"info\",\"msg\":\"Completed loading shard langchain_3d6a800d823a4acdaae781ccbae32c89_Nhocx19uM59C in 115.586395ms\",\"time\":\"2024-02-01T14:50:43+03:00\"}\n",
      "{\"action\":\"hnsw_vector_cache_prefill\",\"count\":3000,\"index_id\":\"main\",\"level\":\"info\",\"limit\":1000000000000,\"msg\":\"prefilled vector cache\",\"time\":\"2024-02-01T14:50:43+03:00\",\"took\":126911}\n",
      "{\"action\":\"hnsw_vector_cache_prefill\",\"count\":3000,\"index_id\":\"main\",\"level\":\"info\",\"limit\":1000000000000,\"msg\":\"prefilled vector cache\",\"time\":\"2024-02-01T14:50:43+03:00\",\"took\":124667}\n",
      "{\"level\":\"info\",\"msg\":\"Completed loading shard langchain_ac8d1707c3e14e42b2f3bb65ab8540f3_fgTj1UOo3Lyl in 113.844893ms\",\"time\":\"2024-02-01T14:50:43+03:00\"}\n",
      "{\"action\":\"hnsw_vector_cache_prefill\",\"count\":3000,\"index_id\":\"main\",\"level\":\"info\",\"limit\":1000000000000,\"msg\":\"prefilled vector cache\",\"time\":\"2024-02-01T14:50:43+03:00\",\"took\":100898}\n",
      "{\"level\":\"info\",\"msg\":\"Completed loading shard langchain_baa7b447464f4fdbb3aca5187cb22e74_dtviWxFZoxRT in 114.708325ms\",\"time\":\"2024-02-01T14:50:43+03:00\"}\n",
      "{\"action\":\"hnsw_vector_cache_prefill\",\"count\":3000,\"index_id\":\"main\",\"level\":\"info\",\"limit\":1000000000000,\"msg\":\"prefilled vector cache\",\"time\":\"2024-02-01T14:50:43+03:00\",\"took\":93696}\n",
      "{\"action\":\"hnsw_vector_cache_prefill\",\"count\":3000,\"index_id\":\"main\",\"level\":\"info\",\"limit\":1000000000000,\"msg\":\"prefilled vector cache\",\"time\":\"2024-02-01T14:50:43+03:00\",\"took\":547740}\n",
      "{\"level\":\"info\",\"msg\":\"Completed loading shard langchain_55f0a253d2b54ffbb5dafdb74bb364c4_qv00Sx8yhABB in 118.186422ms\",\"time\":\"2024-02-01T14:50:43+03:00\"}\n",
      "{\"level\":\"info\",\"msg\":\"Completed loading shard langchain_8e4321718d2c46bd9d6cc0363aa3b8a1_QJa2AEzabs8Z in 117.475336ms\",\"time\":\"2024-02-01T14:50:43+03:00\"}\n",
      "{\"level\":\"info\",\"msg\":\"Completed loading shard langchain_b8f5c020dad8424995a257c897db47d6_zob2dDuslGFs in 116.052587ms\",\"time\":\"2024-02-01T14:50:43+03:00\"}\n",
      "{\"action\":\"hnsw_vector_cache_prefill\",\"count\":3000,\"index_id\":\"main\",\"level\":\"info\",\"limit\":1000000000000,\"msg\":\"prefilled vector cache\",\"time\":\"2024-02-01T14:50:43+03:00\",\"took\":150009}\n",
      "{\"level\":\"info\",\"msg\":\"Completed loading shard langchain_4836fb590cb1419ea6656a040c488d24_gsB3Y5XuzcXk in 117.905549ms\",\"time\":\"2024-02-01T14:50:43+03:00\"}\n",
      "{\"level\":\"info\",\"msg\":\"Completed loading shard langchain_dcd2e23af99f44fbafa8007212a878c5_tbf60MlfmuyP in 118.262161ms\",\"time\":\"2024-02-01T14:50:43+03:00\"}\n",
      "{\"action\":\"hnsw_vector_cache_prefill\",\"count\":3000,\"index_id\":\"main\",\"level\":\"info\",\"limit\":1000000000000,\"msg\":\"prefilled vector cache\",\"time\":\"2024-02-01T14:50:43+03:00\",\"took\":345848}\n",
      "{\"action\":\"hnsw_vector_cache_prefill\",\"count\":3000,\"index_id\":\"main\",\"level\":\"info\",\"limit\":1000000000000,\"msg\":\"prefilled vector cache\",\"time\":\"2024-02-01T14:50:43+03:00\",\"took\":144077}\n",
      "{\"action\":\"hnsw_vector_cache_prefill\",\"count\":3000,\"index_id\":\"main\",\"level\":\"info\",\"limit\":1000000000000,\"msg\":\"prefilled vector cache\",\"time\":\"2024-02-01T14:50:43+03:00\",\"took\":274936}\n",
      "{\"level\":\"info\",\"msg\":\"Completed loading shard langchain_249710fa43a04b028c6088aa0bcb5637_5JcTAjbnLlS2 in 119.535029ms\",\"time\":\"2024-02-01T14:50:43+03:00\"}\n",
      "{\"action\":\"hnsw_vector_cache_prefill\",\"count\":3000,\"index_id\":\"main\",\"level\":\"info\",\"limit\":1000000000000,\"msg\":\"prefilled vector cache\",\"time\":\"2024-02-01T14:50:43+03:00\",\"took\":2322981}\n",
      "{\"action\":\"hnsw_vector_cache_prefill\",\"count\":3000,\"index_id\":\"main\",\"level\":\"info\",\"limit\":1000000000000,\"msg\":\"prefilled vector cache\",\"time\":\"2024-02-01T14:50:43+03:00\",\"took\":88005}\n",
      "{\"level\":\"info\",\"msg\":\"Completed loading shard langchain_3a746cc7ab5c4415b844f69f3d11305f_r2e3GypG1MnT in 118.424079ms\",\"time\":\"2024-02-01T14:50:43+03:00\"}\n",
      "{\"action\":\"hnsw_vector_cache_prefill\",\"count\":3000,\"index_id\":\"main\",\"level\":\"info\",\"limit\":1000000000000,\"msg\":\"prefilled vector cache\",\"time\":\"2024-02-01T14:50:43+03:00\",\"took\":135603}\n",
      "{\"action\":\"hnsw_vector_cache_prefill\",\"count\":3000,\"index_id\":\"main\",\"level\":\"info\",\"limit\":1000000000000,\"msg\":\"prefilled vector cache\",\"time\":\"2024-02-01T14:50:43+03:00\",\"took\":1183379}\n",
      "{\"level\":\"info\",\"msg\":\"Completed loading shard langchain_94318bbb3db241aba328b2891fd99d6c_zIkOarNqfoeG in 118.053205ms\",\"time\":\"2024-02-01T14:50:43+03:00\"}\n",
      "{\"action\":\"hnsw_vector_cache_prefill\",\"count\":3000,\"index_id\":\"main\",\"level\":\"info\",\"limit\":1000000000000,\"msg\":\"prefilled vector cache\",\"time\":\"2024-02-01T14:50:43+03:00\",\"took\":83374}\n",
      "{\"level\":\"info\",\"msg\":\"Completed loading shard langchain_8c85d3c62b71451db3b80cc9bdb96ebf_0lgFexiA5hCi in 116.943743ms\",\"time\":\"2024-02-01T14:50:43+03:00\"}\n",
      "{\"action\":\"hnsw_vector_cache_prefill\",\"count\":3000,\"index_id\":\"main\",\"level\":\"info\",\"limit\":1000000000000,\"msg\":\"prefilled vector cache\",\"time\":\"2024-02-01T14:50:43+03:00\",\"took\":459578}\n",
      "{\"level\":\"info\",\"msg\":\"Completed loading shard langchain_4c2cbdac9fa443eaad4180687ee65e16_x6UxCHGUC7kR in 118.512896ms\",\"time\":\"2024-02-01T14:50:43+03:00\"}\n",
      "{\"action\":\"hnsw_vector_cache_prefill\",\"count\":3000,\"index_id\":\"main\",\"level\":\"info\",\"limit\":1000000000000,\"msg\":\"prefilled vector cache\",\"time\":\"2024-02-01T14:50:43+03:00\",\"took\":821768}\n",
      "{\"level\":\"info\",\"msg\":\"Completed loading shard langchain_af948f2a7ab9408c8520bb65e61e194e_TjXRAnf6gwlZ in 117.763998ms\",\"time\":\"2024-02-01T14:50:43+03:00\"}\n",
      "{\"action\":\"hnsw_vector_cache_prefill\",\"count\":3000,\"index_id\":\"main\",\"level\":\"info\",\"limit\":1000000000000,\"msg\":\"prefilled vector cache\",\"time\":\"2024-02-01T14:50:43+03:00\",\"took\":157088}\n",
      "{\"action\":\"hnsw_vector_cache_prefill\",\"count\":3000,\"index_id\":\"main\",\"level\":\"info\",\"limit\":1000000000000,\"msg\":\"prefilled vector cache\",\"time\":\"2024-02-01T14:50:43+03:00\",\"took\":370913}\n",
      "{\"level\":\"info\",\"msg\":\"Completed loading shard langchain_74180e2845d1477290b3d3c623314944_OuEkjxqNaofI in 118.497371ms\",\"time\":\"2024-02-01T14:50:43+03:00\"}\n",
      "{\"action\":\"hnsw_vector_cache_prefill\",\"count\":3000,\"index_id\":\"main\",\"level\":\"info\",\"limit\":1000000000000,\"msg\":\"prefilled vector cache\",\"time\":\"2024-02-01T14:50:43+03:00\",\"took\":191739}\n",
      "{\"action\":\"hnsw_vector_cache_prefill\",\"count\":3000,\"index_id\":\"main\",\"level\":\"info\",\"limit\":1000000000000,\"msg\":\"prefilled vector cache\",\"time\":\"2024-02-01T14:50:43+03:00\",\"took\":90706}\n",
      "{\"level\":\"info\",\"msg\":\"Completed loading shard langchain_de020582bc7c47ff94750419fe27bc0a_ZaPywvohnTsX in 120.916524ms\",\"time\":\"2024-02-01T14:50:43+03:00\"}\n",
      "{\"action\":\"hnsw_vector_cache_prefill\",\"count\":3000,\"index_id\":\"main\",\"level\":\"info\",\"limit\":1000000000000,\"msg\":\"prefilled vector cache\",\"time\":\"2024-02-01T14:50:43+03:00\",\"took\":103850}\n",
      "{\"level\":\"info\",\"msg\":\"Completed loading shard langchain_511e4a61e99c42ff8ddbda98ae195428_hMU6FHFI4gwo in 122.193225ms\",\"time\":\"2024-02-01T14:50:43+03:00\"}\n",
      "{\"action\":\"hnsw_vector_cache_prefill\",\"count\":3000,\"index_id\":\"main\",\"level\":\"info\",\"limit\":1000000000000,\"msg\":\"prefilled vector cache\",\"time\":\"2024-02-01T14:50:43+03:00\",\"took\":506430}\n",
      "{\"action\":\"hnsw_vector_cache_prefill\",\"count\":3000,\"index_id\":\"main\",\"level\":\"info\",\"limit\":1000000000000,\"msg\":\"prefilled vector cache\",\"time\":\"2024-02-01T14:50:43+03:00\",\"took\":132494}\n",
      "{\"level\":\"info\",\"msg\":\"Completed loading shard langchain_6a3dea270c9d4a788ccf2eb5302e611c_prL77N0mdnFc in 121.420797ms\",\"time\":\"2024-02-01T14:50:43+03:00\"}\n",
      "{\"level\":\"info\",\"msg\":\"Completed loading shard langchain_c520d9250a12450ba3b117cd6191ea8c_zOBi0ZYuLhhn in 123.407984ms\",\"time\":\"2024-02-01T14:50:43+03:00\"}\n",
      "{\"action\":\"hnsw_vector_cache_prefill\",\"count\":3000,\"index_id\":\"main\",\"level\":\"info\",\"limit\":1000000000000,\"msg\":\"prefilled vector cache\",\"time\":\"2024-02-01T14:50:43+03:00\",\"took\":125075}\n",
      "{\"level\":\"info\",\"msg\":\"Completed loading shard langchain_d6dae56133da45dcb51d06b11d3f0076_nXayLn0BUzjw in 122.748815ms\",\"time\":\"2024-02-01T14:50:43+03:00\"}\n",
      "{\"action\":\"hnsw_vector_cache_prefill\",\"count\":3000,\"index_id\":\"main\",\"level\":\"info\",\"limit\":1000000000000,\"msg\":\"prefilled vector cache\",\"time\":\"2024-02-01T14:50:43+03:00\",\"took\":220118}\n",
      "{\"level\":\"info\",\"msg\":\"Completed loading shard langchain_7a9eceac92e2481bb0128bb2f88cec14_TSeosXpZyFRe in 120.347876ms\",\"time\":\"2024-02-01T14:50:43+03:00\"}\n",
      "{\"action\":\"hnsw_vector_cache_prefill\",\"count\":3000,\"index_id\":\"main\",\"level\":\"info\",\"limit\":1000000000000,\"msg\":\"prefilled vector cache\",\"time\":\"2024-02-01T14:50:43+03:00\",\"took\":222837}\n",
      "{\"level\":\"info\",\"msg\":\"Completed loading shard langchain_48fe5c9b3b704d98a3961dd0c272d6fd_6L1lNAT2RMhH in 120.902658ms\",\"time\":\"2024-02-01T14:50:43+03:00\"}\n",
      "{\"action\":\"hnsw_vector_cache_prefill\",\"count\":3000,\"index_id\":\"main\",\"level\":\"info\",\"limit\":1000000000000,\"msg\":\"prefilled vector cache\",\"time\":\"2024-02-01T14:50:43+03:00\",\"took\":124296}\n",
      "{\"action\":\"hnsw_vector_cache_prefill\",\"count\":3000,\"index_id\":\"main\",\"level\":\"info\",\"limit\":1000000000000,\"msg\":\"prefilled vector cache\",\"time\":\"2024-02-01T14:50:43+03:00\",\"took\":155000}\n",
      "{\"level\":\"info\",\"msg\":\"Completed loading shard langchain_efd4b1af5afa4129a4158d5de2e56ddf_Usx5vQLJoAsW in 121.027678ms\",\"time\":\"2024-02-01T14:50:43+03:00\"}\n",
      "{\"action\":\"hnsw_vector_cache_prefill\",\"count\":3000,\"index_id\":\"main\",\"level\":\"info\",\"limit\":1000000000000,\"msg\":\"prefilled vector cache\",\"time\":\"2024-02-01T14:50:43+03:00\",\"took\":138728}\n",
      "{\"level\":\"info\",\"msg\":\"Completed loading shard langchain_bfaff2a87a6e4702a0d2e8b9266c84cd_4mJJfq4i1k3P in 120.91433ms\",\"time\":\"2024-02-01T14:50:43+03:00\"}\n",
      "{\"action\":\"hnsw_vector_cache_prefill\",\"count\":3000,\"index_id\":\"main\",\"level\":\"info\",\"limit\":1000000000000,\"msg\":\"prefilled vector cache\",\"time\":\"2024-02-01T14:50:43+03:00\",\"took\":733561}\n",
      "{\"action\":\"hnsw_vector_cache_prefill\",\"count\":3000,\"index_id\":\"main\",\"level\":\"info\",\"limit\":1000000000000,\"msg\":\"prefilled vector cache\",\"time\":\"2024-02-01T14:50:43+03:00\",\"took\":11068840}\n",
      "{\"action\":\"hnsw_vector_cache_prefill\",\"count\":3000,\"index_id\":\"main\",\"level\":\"info\",\"limit\":1000000000000,\"msg\":\"prefilled vector cache\",\"time\":\"2024-02-01T14:50:43+03:00\",\"took\":176559}\n",
      "{\"level\":\"info\",\"msg\":\"Completed loading shard langchain_496a3e4e7bf94f77b1ddf43b9f7cec85_rqWMZQKSavMl in 123.523761ms\",\"time\":\"2024-02-01T14:50:43+03:00\"}\n",
      "{\"action\":\"hnsw_vector_cache_prefill\",\"count\":3000,\"index_id\":\"main\",\"level\":\"info\",\"limit\":1000000000000,\"msg\":\"prefilled vector cache\",\"time\":\"2024-02-01T14:50:43+03:00\",\"took\":117897}\n",
      "{\"level\":\"info\",\"msg\":\"Completed loading shard langchain_a123bfc441ec42dc975cdacf35cc9168_H2WVKppAR39N in 123.861737ms\",\"time\":\"2024-02-01T14:50:43+03:00\"}\n",
      "{\"level\":\"info\",\"msg\":\"Completed loading shard langchain_a6bf6203986f41c59b8de6a4e6d6654f_yjZbF2a96q1T in 121.890671ms\",\"time\":\"2024-02-01T14:50:43+03:00\"}\n",
      "{\"action\":\"hnsw_vector_cache_prefill\",\"count\":3000,\"index_id\":\"main\",\"level\":\"info\",\"limit\":1000000000000,\"msg\":\"prefilled vector cache\",\"time\":\"2024-02-01T14:50:43+03:00\",\"took\":108295}\n",
      "{\"action\":\"hnsw_vector_cache_prefill\",\"count\":3000,\"index_id\":\"main\",\"level\":\"info\",\"limit\":1000000000000,\"msg\":\"prefilled vector cache\",\"time\":\"2024-02-01T14:50:43+03:00\",\"took\":546334}\n",
      "{\"level\":\"info\",\"msg\":\"Completed loading shard langchain_3befa79eada749aea183be1ebacf70bd_WMM4etojJlF5 in 124.901175ms\",\"time\":\"2024-02-01T14:50:43+03:00\"}\n",
      "{\"level\":\"info\",\"msg\":\"Completed loading shard langchain_4f54e6dd9a024ca384b0132696f824a0_LTZnrIDTjSlN in 122.904075ms\",\"time\":\"2024-02-01T14:50:43+03:00\"}\n",
      "{\"action\":\"hnsw_vector_cache_prefill\",\"count\":3000,\"index_id\":\"main\",\"level\":\"info\",\"limit\":1000000000000,\"msg\":\"prefilled vector cache\",\"time\":\"2024-02-01T14:50:43+03:00\",\"took\":127499}\n",
      "{\"level\":\"info\",\"msg\":\"Completed loading shard langchain_c7caa635303c448e95b5f71ba08b2956_aFk0U0CKJvlt in 126.362938ms\",\"time\":\"2024-02-01T14:50:43+03:00\"}\n",
      "{\"action\":\"hnsw_vector_cache_prefill\",\"count\":3000,\"index_id\":\"main\",\"level\":\"info\",\"limit\":1000000000000,\"msg\":\"prefilled vector cache\",\"time\":\"2024-02-01T14:50:43+03:00\",\"took\":83099}\n",
      "{\"level\":\"info\",\"msg\":\"Completed loading shard langchain_5fc955b930854bd0ab167a7b9d59f001_XZKVCSQkonBm in 124.109282ms\",\"time\":\"2024-02-01T14:50:43+03:00\"}\n",
      "{\"action\":\"hnsw_vector_cache_prefill\",\"count\":3000,\"index_id\":\"main\",\"level\":\"info\",\"limit\":1000000000000,\"msg\":\"prefilled vector cache\",\"time\":\"2024-02-01T14:50:43+03:00\",\"took\":660718}\n",
      "{\"level\":\"info\",\"msg\":\"Completed loading shard langchain_bd28b646c29f4dfaa4406f82e93d590c_bIenm7yfBFIv in 127.061311ms\",\"time\":\"2024-02-01T14:50:43+03:00\"}\n",
      "{\"action\":\"hnsw_vector_cache_prefill\",\"count\":3000,\"index_id\":\"main\",\"level\":\"info\",\"limit\":1000000000000,\"msg\":\"prefilled vector cache\",\"time\":\"2024-02-01T14:50:43+03:00\",\"took\":194719}\n",
      "{\"level\":\"info\",\"msg\":\"Completed loading shard langchain_28f3bb7c9b5247ca9a2432f01796c027_a8dhg0N9Rrpj in 143.973889ms\",\"time\":\"2024-02-01T14:50:43+03:00\"}\n",
      "{\"action\":\"hnsw_vector_cache_prefill\",\"count\":3000,\"index_id\":\"main\",\"level\":\"info\",\"limit\":1000000000000,\"msg\":\"prefilled vector cache\",\"time\":\"2024-02-01T14:50:43+03:00\",\"took\":121205}\n",
      "{\"level\":\"info\",\"msg\":\"Completed loading shard langchain_9ad5ae5cc05e4e3da5ce4b05f57fdd64_ab3kpDhXe37j in 122.983975ms\",\"time\":\"2024-02-01T14:50:43+03:00\"}\n",
      "{\"action\":\"hnsw_vector_cache_prefill\",\"count\":3000,\"index_id\":\"main\",\"level\":\"info\",\"limit\":1000000000000,\"msg\":\"prefilled vector cache\",\"time\":\"2024-02-01T14:50:43+03:00\",\"took\":217860}\n",
      "{\"action\":\"hnsw_vector_cache_prefill\",\"count\":3000,\"index_id\":\"main\",\"level\":\"info\",\"limit\":1000000000000,\"msg\":\"prefilled vector cache\",\"time\":\"2024-02-01T14:50:43+03:00\",\"took\":655017}\n",
      "{\"level\":\"info\",\"msg\":\"Completed loading shard langchain_6f33a881c8a44172be4810d8caef00b7_DWxAhPY1dH9Y in 124.597797ms\",\"time\":\"2024-02-01T14:50:43+03:00\"}\n",
      "{\"level\":\"info\",\"msg\":\"Completed loading shard langchain_fdfed8d23d1a4ed68f96696c92af7b45_azU29epaDNmO in 123.290807ms\",\"time\":\"2024-02-01T14:50:43+03:00\"}\n",
      "{\"level\":\"info\",\"msg\":\"Completed loading shard langchain_f6b64408a07142559dbd9fa9d395a5e3_aFu3VtJMTo8F in 124.143045ms\",\"time\":\"2024-02-01T14:50:43+03:00\"}\n",
      "{\"level\":\"info\",\"msg\":\"Completed loading shard langchain_8f006eba61624113870add5dc417cf8d_5HsfjSDcNKRJ in 123.956339ms\",\"time\":\"2024-02-01T14:50:43+03:00\"}\n",
      "{\"level\":\"info\",\"msg\":\"Completed loading shard langchain_f33e43be1b0440458cd75d780b8a227f_2z6bYMvXXbWt in 124.479458ms\",\"time\":\"2024-02-01T14:50:43+03:00\"}\n",
      "{\"action\":\"hnsw_vector_cache_prefill\",\"count\":3000,\"index_id\":\"main\",\"level\":\"info\",\"limit\":1000000000000,\"msg\":\"prefilled vector cache\",\"time\":\"2024-02-01T14:50:43+03:00\",\"took\":136027}\n",
      "{\"action\":\"hnsw_vector_cache_prefill\",\"count\":3000,\"index_id\":\"main\",\"level\":\"info\",\"limit\":1000000000000,\"msg\":\"prefilled vector cache\",\"time\":\"2024-02-01T14:50:43+03:00\",\"took\":147116}\n",
      "{\"level\":\"info\",\"msg\":\"Completed loading shard langchain_31b3c62caf52436c8ffad34e7acc9432_8ZwSHjkfby5d in 126.707898ms\",\"time\":\"2024-02-01T14:50:43+03:00\"}\n",
      "{\"action\":\"hnsw_vector_cache_prefill\",\"count\":3000,\"index_id\":\"main\",\"level\":\"info\",\"limit\":1000000000000,\"msg\":\"prefilled vector cache\",\"time\":\"2024-02-01T14:50:43+03:00\",\"took\":130096}\n",
      "{\"action\":\"hnsw_vector_cache_prefill\",\"count\":3000,\"index_id\":\"main\",\"level\":\"info\",\"limit\":1000000000000,\"msg\":\"prefilled vector cache\",\"time\":\"2024-02-01T14:50:43+03:00\",\"took\":118352}\n",
      "{\"action\":\"hnsw_vector_cache_prefill\",\"count\":3000,\"index_id\":\"main\",\"level\":\"info\",\"limit\":1000000000000,\"msg\":\"prefilled vector cache\",\"time\":\"2024-02-01T14:50:43+03:00\",\"took\":282251}\n",
      "{\"level\":\"info\",\"msg\":\"Completed loading shard langchain_7ab4e39a2959450f9d25c4f094c1ed65_RbKsTje6S11Q in 123.947673ms\",\"time\":\"2024-02-01T14:50:43+03:00\"}\n",
      "{\"level\":\"info\",\"msg\":\"Completed loading shard langchain_432ee6dc833f4f6ebbbfb60aef908677_Ma54FlFUae9Q in 125.969236ms\",\"time\":\"2024-02-01T14:50:43+03:00\"}\n",
      "{\"level\":\"info\",\"msg\":\"Completed loading shard langchain_5cc378ce712242cb949dddc4f21272e9_UbULVzx44tL3 in 126.017584ms\",\"time\":\"2024-02-01T14:50:43+03:00\"}\n",
      "{\"action\":\"hnsw_vector_cache_prefill\",\"count\":3000,\"index_id\":\"main\",\"level\":\"info\",\"limit\":1000000000000,\"msg\":\"prefilled vector cache\",\"time\":\"2024-02-01T14:50:43+03:00\",\"took\":656852}\n",
      "{\"action\":\"hnsw_vector_cache_prefill\",\"count\":3000,\"index_id\":\"main\",\"level\":\"info\",\"limit\":1000000000000,\"msg\":\"prefilled vector cache\",\"time\":\"2024-02-01T14:50:43+03:00\",\"took\":127217}\n",
      "{\"level\":\"info\",\"msg\":\"Completed loading shard langchain_e79a626d630c42518cd11d6471b617f8_uvynfNGia2ly in 125.99808ms\",\"time\":\"2024-02-01T14:50:43+03:00\"}\n",
      "{\"level\":\"info\",\"msg\":\"Completed loading shard langchain_6d770baf40a84c93824e03a28cb7f5dc_0xSq7UdVBXTv in 125.111347ms\",\"time\":\"2024-02-01T14:50:43+03:00\"}\n",
      "{\"action\":\"hnsw_vector_cache_prefill\",\"count\":3000,\"index_id\":\"main\",\"level\":\"info\",\"limit\":1000000000000,\"msg\":\"prefilled vector cache\",\"time\":\"2024-02-01T14:50:43+03:00\",\"took\":130063}\n",
      "{\"level\":\"info\",\"msg\":\"Completed loading shard langchain_c7ebacded851432ebd6b05481777f742_yIxMeF55G4YQ in 128.425362ms\",\"time\":\"2024-02-01T14:50:43+03:00\"}\n",
      "{\"action\":\"hnsw_vector_cache_prefill\",\"count\":3000,\"index_id\":\"main\",\"level\":\"info\",\"limit\":1000000000000,\"msg\":\"prefilled vector cache\",\"time\":\"2024-02-01T14:50:43+03:00\",\"took\":164333}\n",
      "{\"action\":\"hnsw_vector_cache_prefill\",\"count\":3000,\"index_id\":\"main\",\"level\":\"info\",\"limit\":1000000000000,\"msg\":\"prefilled vector cache\",\"time\":\"2024-02-01T14:50:43+03:00\",\"took\":751131}\n",
      "{\"action\":\"hnsw_vector_cache_prefill\",\"count\":3000,\"index_id\":\"main\",\"level\":\"info\",\"limit\":1000000000000,\"msg\":\"prefilled vector cache\",\"time\":\"2024-02-01T14:50:43+03:00\",\"took\":750668}\n",
      "{\"action\":\"hnsw_vector_cache_prefill\",\"count\":3000,\"index_id\":\"main\",\"level\":\"info\",\"limit\":1000000000000,\"msg\":\"prefilled vector cache\",\"time\":\"2024-02-01T14:50:43+03:00\",\"took\":857222}\n",
      "{\"level\":\"info\",\"msg\":\"Created shard langchain_3fa40ca45b1c40edae78da827a9fcd6e_Bjj90M5fEP6V in 877.265µs\",\"time\":\"2024-02-01T14:50:44+03:00\"}\n",
      "{\"action\":\"hnsw_vector_cache_prefill\",\"count\":1000,\"index_id\":\"main\",\"level\":\"info\",\"limit\":1000000000000,\"msg\":\"prefilled vector cache\",\"time\":\"2024-02-01T14:50:44+03:00\",\"took\":115414}\n"
     ]
    },
    {
     "name": "stdout",
     "output_type": "stream",
     "text": [
      "Retriever created successfully.\n"
     ]
    },
    {
     "name": "stderr",
     "output_type": "stream",
     "text": [
      "/home/babi/miniconda3/envs/tenx_week6/lib/python3.12/site-packages/langchain_community/embeddings/openai.py:500: PydanticDeprecatedSince20: The `dict` method is deprecated; use `model_dump` instead. Deprecated in Pydantic V2.0 to be removed in V3.0. See Pydantic V2 Migration Guide at https://errors.pydantic.dev/2.5/migration/\n",
      "  response = response.dict()\n",
      "/home/babi/miniconda3/envs/tenx_week6/lib/python3.12/site-packages/pydantic/main.py:979: PydanticDeprecatedSince20: The `dict` method is deprecated; use `model_dump` instead. Deprecated in Pydantic V2.0 to be removed in V3.0. See Pydantic V2 Migration Guide at https://errors.pydantic.dev/2.5/migration/\n",
      "  warnings.warn('The `dict` method is deprecated; use `model_dump` instead.', DeprecationWarning)\n"
     ]
    }
   ],
   "source": [
    "retriever = create_retriever(chuncks)"
   ]
  },
  {
   "cell_type": "code",
   "execution_count": 5,
   "metadata": {},
   "outputs": [
    {
     "data": {
      "text/plain": [
       "langchain_core.vectorstores.VectorStoreRetriever"
      ]
     },
     "execution_count": 5,
     "metadata": {},
     "output_type": "execute_result"
    }
   ],
   "source": [
    "type(retriever)"
   ]
  },
  {
   "cell_type": "code",
   "execution_count": 6,
   "metadata": {},
   "outputs": [
    {
     "name": "stderr",
     "output_type": "stream",
     "text": [
      "/home/babi/miniconda3/envs/tenx_week6/lib/python3.12/site-packages/langchain_community/embeddings/openai.py:500: PydanticDeprecatedSince20: The `dict` method is deprecated; use `model_dump` instead. Deprecated in Pydantic V2.0 to be removed in V3.0. See Pydantic V2 Migration Guide at https://errors.pydantic.dev/2.5/migration/\n",
      "  response = response.dict()\n",
      "/home/babi/miniconda3/envs/tenx_week6/lib/python3.12/site-packages/pydantic/main.py:979: PydanticDeprecatedSince20: The `dict` method is deprecated; use `model_dump` instead. Deprecated in Pydantic V2.0 to be removed in V3.0. See Pydantic V2 Migration Guide at https://errors.pydantic.dev/2.5/migration/\n",
      "  warnings.warn('The `dict` method is deprecated; use `model_dump` instead.', DeprecationWarning)\n"
     ]
    },
    {
     "data": {
      "text/plain": [
       "[Document(page_content='ኢትዮጵያዊነት ኢትዮጵያዊነት ብዙ የተለያዩ ህብረተሰቦች የተዋህዱበት አካል ክፍል\\nመሆን ነው። ኢትዮጵያዊነት ከጎሰኝኛት በላይና ውጭ የሆነ አጠቃላይ ማንነት ነው።\\nኢትዮጵያዊነት የዚች ውጥንቅጥ መሬት ባለቤትነት ነው፣ ኢትዮጵያዊነት የደጋው\\nብርድና የቆላው ሙቀት የሚገናኙበት፣ የደጋው ዝናብም ከቆላው ወንዝ ጋር\\n\\nየተዛመደበት ሃይል ነው። ኢትዮጵያዊነት ለሙሴ፣ ለክርስቶስና ለመሀመድ የሚጨሰው \\nእጣን በእርገት መጥቶ የሚደባለቅበት እምነት ነው። ኢትዮጵያዊነት በቄጤማ ጉዝጓዝ\\nላይ የሚታየው መተሳሰብና መፈቃቀር ነው። ኢትዮጵያዊነት የአስተዋይነት፣የሚዛናዊነት \\nየጨዋነት ባሕርይ ነው። ኢትዮጵያዊነት ረዢምና ተፅፎ ያላለቀ ታሪክ ነው፤ ብዙ ሰዎችም\\nየተሰዉለት ስሜት ነው።', metadata={'source': '../prompts/context.txt'}),\n",
       " Document(page_content='ኢትዮጵያዊነት ስቃይና መከራ ነው፤ ኢትዮጵያዊነት ኩራትና\\nክብርም ነው። ኢትዮጵያዊነት ጭቆናና ጥቃት ነው፤ ኢትዮጵያዊነት አሻፈረኝና እምቢ \\nባይነትም ነው። የኢትዮጵያዊነት ኣላማ ያለችውንና የኖረችውን ኢትዮጵያን እንደገና \\nለመፍጠር አይደለም። የኢትዮጵያ ኣላማ ለኢትዮጵያዊያን በሙሉ የሚስማማ እድገታቸውንም\\nየሚያፋጥንና፣ህብረታቸውን የሚያጠነክር ሥርኣትን መፍጠር ነው። የኢትዮጵያዊነት ችግር', metadata={'source': '../prompts/context.txt'}),\n",
       " Document(page_content='ኢትዮጵያ አይደለችም፣ችግሩ የሥርኣት ችግር ነው። የቤቴ መቃጠል ለትኋኑ በጀኝ እንዳለው\\nቂል እንዳንሆን። ኢትዮጵያዊነትን መካድ የራስን ማንነት መካድ ብቻ አይደለም። አባቶችንና\\nእናቶችን፣ቅድም አያቶችን ከነቅርሳቸው መካድ ነው። በእንደዚህ ኣይነቱ ክህደት ላይ የተመሰረተ\\nማንነት የት ይደርሳል?ከበሽታ በቀርስ ትርፉ ምን ይሆናል? ክህደት ራሱን የቻለ በሽታ\\nሲሆን ማስካድ ደግሞ የባሰ ነው። ክዶ ማስካድ ታምሜያለሁኝ፣ ታመሙ እንደማለት\\nነ። አስታማሚ እንኳን እንዳይገኝ የማድረጉ ጥረት የበሽታውን ምለኣትና ፅናት \\nያመለክታል።', metadata={'source': '../prompts/context.txt'}),\n",
       " Document(page_content='ከተወለዱት እናት እና አባት ከተወለዱት እናት እና አባት ከተወለዱት እናት እና አባት ከተወለዱት እናት እና አባት ከተወለዱት እናት እና አባት ከተወለዱት \\nእናት እና አባት ከተወለዱት እናት እና አባት ከተወለዱት እናት እና አባት ከተወለዱት እናት እና አባት ከተወለዱት እናት እና አባት ከተወለዱት እናት እና \\nአባት ከተወለዱት እናት እና አባት ከተወለዱት እናት እና አባት ከተወለዱት እናት እና አባት ከተወለዱት እናት እና አባት ከተወለዱት እናት እና አባት ከተወለዱት \\nእናት እና አባት ከተወለዱት እናት እና አባት ከተወለዱት እናት እና አባት ከተወለዱት እናት እና አባት ከተወለዱት እናት እና አባት ከተወለዱት እናት እና አባት', metadata={'source': '../prompts/context.txt'})]"
      ]
     },
     "execution_count": 6,
     "metadata": {},
     "output_type": "execute_result"
    }
   ],
   "source": [
    "retriever.get_relevant_documents(\"ኢትዮጵያ\")"
   ]
  },
  {
   "cell_type": "code",
   "execution_count": 7,
   "metadata": {},
   "outputs": [
    {
     "name": "stderr",
     "output_type": "stream",
     "text": [
      "/home/babi/miniconda3/envs/tenx_week6/lib/python3.12/site-packages/langchain_community/embeddings/openai.py:500: PydanticDeprecatedSince20: The `dict` method is deprecated; use `model_dump` instead. Deprecated in Pydantic V2.0 to be removed in V3.0. See Pydantic V2 Migration Guide at https://errors.pydantic.dev/2.5/migration/\n",
      "  response = response.dict()\n",
      "/home/babi/miniconda3/envs/tenx_week6/lib/python3.12/site-packages/pydantic/main.py:979: PydanticDeprecatedSince20: The `dict` method is deprecated; use `model_dump` instead. Deprecated in Pydantic V2.0 to be removed in V3.0. See Pydantic V2 Migration Guide at https://errors.pydantic.dev/2.5/migration/\n",
      "  warnings.warn('The `dict` method is deprecated; use `model_dump` instead.', DeprecationWarning)\n"
     ]
    },
    {
     "data": {
      "text/plain": [
       "[Document(page_content='ኢትዮጵያ አይደለችም፣ችግሩ የሥርኣት ችግር ነው። የቤቴ መቃጠል ለትኋኑ በጀኝ እንዳለው\\nቂል እንዳንሆን። ኢትዮጵያዊነትን መካድ የራስን ማንነት መካድ ብቻ አይደለም። አባቶችንና\\nእናቶችን፣ቅድም አያቶችን ከነቅርሳቸው መካድ ነው። በእንደዚህ ኣይነቱ ክህደት ላይ የተመሰረተ\\nማንነት የት ይደርሳል?ከበሽታ በቀርስ ትርፉ ምን ይሆናል? ክህደት ራሱን የቻለ በሽታ\\nሲሆን ማስካድ ደግሞ የባሰ ነው። ክዶ ማስካድ ታምሜያለሁኝ፣ ታመሙ እንደማለት\\nነ። አስታማሚ እንኳን እንዳይገኝ የማድረጉ ጥረት የበሽታውን ምለኣትና ፅናት \\nያመለክታል።', metadata={'source': '../prompts/context.txt'}),\n",
       " Document(page_content='ግንዘቤ ዲባባ ኢትዮጵያዊት አለቃ እና መርሃግብር አስተዳዳሪ ናት። በመካከለኛ እና በርቀት የሩጫ ፍጥነት ውድድር ውስጥ \\nበብዙ የዓለም አቀፍ እና የኦሊምፒክ ሜዳሊያዎች የተሸከመች እና የተለያዩ የዓለም አቀፍ እና የአፍሪካ ክርክሮች የተሸከመች\\nአሸናፊ ናት። በ2015 ዓ.ም በበኢትዮጵያ በተካሄደው የአፍሪካ አለቃዎች ስፖርት አዋርድ ስነ-ስርዓት ውስጥ ከአለቃዎች አንድ እንደሆነች ተመልክታለች። \\nእሷ የዲባባ ቤተሰብ ከሆነችው ትርንሳን ዲባባ እና ከእሷ እናት እና አባት ከተወለዱት እናት እና አባት ከተወለዱት እናት እና አባት ከተወለዱት እናት እና አባት', metadata={'source': '../prompts/context.txt'}),\n",
       " Document(page_content='ታሪክ የሌለው ህዝብ ታሪካዊ ስራ ለመስራት አይጓጓም። ነፃነትም የማያውቅ\\nህዝብ ነፃነቱን ለማግኘት አይደክምም። ኢትዮጵያ የረጅም ዘመን ታሪክ ያላት ነፃ \\nሀገር ስለሆነች ልጆቿ ታሪኳን አውቀው የነፃነቷን ጉልላት ጠብቀው/ ከተፈፀሙ ስህተቶች \\nተምረው እንዲኖሩ ግዴታቸው ነው። አንድ ወጣት የሀገሩን ታሪክ ሳያውቅና ሳያጠናቅቅ\\nየአውሮጳንና የአሜሪካንን ታሪክ ለማሳመር ቢሞክር << በቅሎ አባትህ ማነው? ቢሉት\\n\\nፈረስ አጎቴ ነው>> ይላል እንደሚባለው የሚያሳፍር ይሆናል። በሀገራችን ተስፋ አንቆርጥም!\\nኢትዮጵያ ኣደይ !\\nአደራ ልጄ ገንዘብ ውርሴን አምጪ አትበይኝ አደራ መኪና ቪላ ፎቅ አትበይኝ\\nአደራ ባቡር አውሮፕላን አትበይኝ አደራ እናትሽ ድሀ ነኝ ሀገር ተቀበይኝ ሰንደ\\nቅ እንዳበራ ደስ አሰኝኝ ልጄ እኔም ባንቺ ልኩራ። ገጣሚ : ሰላማዊት አበባየሁ\\nኢትዮጵያ ሀገሬ መመኪያ ነሽ ክብሬ !', metadata={'source': '../prompts/context.txt'}),\n",
       " Document(page_content='ኢትዮጵያዊነት ኢትዮጵያዊነት ብዙ የተለያዩ ህብረተሰቦች የተዋህዱበት አካል ክፍል\\nመሆን ነው። ኢትዮጵያዊነት ከጎሰኝኛት በላይና ውጭ የሆነ አጠቃላይ ማንነት ነው።\\nኢትዮጵያዊነት የዚች ውጥንቅጥ መሬት ባለቤትነት ነው፣ ኢትዮጵያዊነት የደጋው\\nብርድና የቆላው ሙቀት የሚገናኙበት፣ የደጋው ዝናብም ከቆላው ወንዝ ጋር\\n\\nየተዛመደበት ሃይል ነው። ኢትዮጵያዊነት ለሙሴ፣ ለክርስቶስና ለመሀመድ የሚጨሰው \\nእጣን በእርገት መጥቶ የሚደባለቅበት እምነት ነው። ኢትዮጵያዊነት በቄጤማ ጉዝጓዝ\\nላይ የሚታየው መተሳሰብና መፈቃቀር ነው። ኢትዮጵያዊነት የአስተዋይነት፣የሚዛናዊነት \\nየጨዋነት ባሕርይ ነው። ኢትዮጵያዊነት ረዢምና ተፅፎ ያላለቀ ታሪክ ነው፤ ብዙ ሰዎችም\\nየተሰዉለት ስሜት ነው።', metadata={'source': '../prompts/context.txt'})]"
      ]
     },
     "execution_count": 7,
     "metadata": {},
     "output_type": "execute_result"
    }
   ],
   "source": [
    "retriever.get_relevant_documents(\"ገንዘቤ ዲባባ ማን  ናት?\")"
   ]
  },
  {
   "cell_type": "markdown",
   "metadata": {},
   "source": [
    "### Create langchain executor agent"
   ]
  },
  {
   "cell_type": "code",
   "execution_count": 9,
   "metadata": {},
   "outputs": [],
   "source": [
    "from langchain.agents import tool\n",
    "\n",
    "@tool\n",
    "def get_link_data(link: str) -> List:\n",
    "    \"\"\"\"\"\"\n",
    "    return None\n",
    "\n",
    "\n",
    "def get_agent_executor():\n",
    "    with open(\"../prompts/system_message.txt\", \"r\") as file:\n",
    "        system_message = file.read()\n",
    "\n",
    "    agent_kwargs = {\n",
    "    \"system_message\": SystemMessage(content=system_message),\n",
    "    \"retriever\": retriever  # Pass the retriever to the agent\n",
    "    }\n",
    "\n",
    "    llm_agent = initialize_agent(\n",
    "        llm=ChatOpenAI(temperature=0.1, model = 'gpt-4-1106-preview'),\n",
    "        agent=AgentType.OPENAI_FUNCTIONS,\n",
    "        tools=[get_link_data],\n",
    "        agent_kwargs=agent_kwargs,\n",
    "        verbose=True,\n",
    "        max_iterations=20,\n",
    "        early_stopping_method='generate'\n",
    "    )\n",
    "\n",
    "    return llm_agent\n"
   ]
  },
  {
   "cell_type": "code",
   "execution_count": 10,
   "metadata": {},
   "outputs": [
    {
     "name": "stderr",
     "output_type": "stream",
     "text": [
      "/home/babi/miniconda3/envs/tenx_week6/lib/python3.12/site-packages/langchain_core/_api/deprecation.py:117: LangChainDeprecationWarning: The class `langchain_community.chat_models.openai.ChatOpenAI` was deprecated in langchain-community 0.0.10 and will be removed in 0.2.0. An updated version of the class exists in the langchain-openai package and should be used instead. To use it run `pip install -U langchain-openai` and import as `from langchain_openai import ChatOpenAI`.\n",
      "  warn_deprecated(\n",
      "/home/babi/miniconda3/envs/tenx_week6/lib/python3.12/site-packages/langchain_core/_api/deprecation.py:117: LangChainDeprecationWarning: The function `initialize_agent` was deprecated in LangChain 0.1.0 and will be removed in 0.2.0. Use Use new agent constructor methods like create_react_agent, create_json_agent, create_structured_chat_agent, etc. instead.\n",
      "  warn_deprecated(\n"
     ]
    }
   ],
   "source": [
    "llm_agent = get_agent_executor()"
   ]
  },
  {
   "cell_type": "code",
   "execution_count": 11,
   "metadata": {},
   "outputs": [
    {
     "name": "stderr",
     "output_type": "stream",
     "text": [
      "/home/babi/miniconda3/envs/tenx_week6/lib/python3.12/site-packages/langchain_core/_api/deprecation.py:117: LangChainDeprecationWarning: The function `run` was deprecated in LangChain 0.1.0 and will be removed in 0.2.0. Use invoke instead.\n",
      "  warn_deprecated(\n"
     ]
    },
    {
     "name": "stdout",
     "output_type": "stream",
     "text": [
      "\n",
      "\n",
      "\u001b[1m> Entering new AgentExecutor chain...\u001b[0m\n",
      "\u001b[32;1m\u001b[1;3mገንዘቤ ዲባባ እንደሚለው ስም በአሁኑ ሰአት የታወቀ ሰው ወይም እቃ አይመስለኝም። ሆኖም እሱ ሊሆን የሚችል ነገር እንደ አንድ ስም ወይም ተዋንያን ነገር ሊሆን ይችላል። እባኮትን የምትጠይቁትን በተጨማሪ ዝርዝር እንዲሁም በተመለከተ መረጃ እንዲሁም በእርስዎ የምትፈልጉት ዓይነት መረጃ ከሆነ እንዲሁም በእርስዎ የምትፈልጉት አገልግሎት ከሆነ በተጨማሪ መረጃ እንዲሁም በእርስዎ የምትፈልጉት አገልግሎት ከሆነ በተጨማሪ መረጃ እንዲሁም በእርስዎ የምትፈልጉት አገልግሎት ከሆነ በተጨማሪ መረጃ እንዲሁም በእርስዎ የምትፈልጉት አገልግሎት ከሆነ በተጨማሪ መረጃ እንዲሁም በእርስዎ የምትፈልጉት አገልግሎት ከሆነ በተጨማሪ መረጃ እንዲሁም በእርስዎ የምትፈልጉት አገልግሎት ከሆነ በተጨማሪ መረጃ እንዲሁም በእርስዎ የምትፈልጉት አገልግሎት ከሆነ በተጨማሪ መረጃ እንዲሁም በእርስዎ የምትፈልጉት አገልግሎት ከሆነ በተጨማሪ መረጃ እንዲሁም በእርስዎ የምትፈልጉት አገልግሎት ከሆነ በተጨማሪ መረጃ እንዲሁም በእርስዎ የምትፈልጉት አገልግሎት ከሆነ በተጨማሪ መረጃ እንዲሁም በእርስዎ የምትፈልጉት አገልግሎት ከሆነ በተጨማሪ መረጃ እንዲሁም በእርስዎ የምትፈልጉት አገልግሎት ከሆነ በተጨማሪ መረጃ እንዲሁም በእርስዎ የምትፈልጉት አገልግሎት ከሆነ በተጨማሪ መረጃ እንዲሁም በእርስዎ የምትፈልጉት አገልግሎት ከሆነ በተጨማሪ መረጃ እንዲሁም በእርስዎ የምትፈልጉት አገልግሎት ከሆነ በተጨማሪ መረጃ እንዲሁም በእርስዎ የምትፈልጉት አገልግሎት ከሆነ በተጨማሪ መረጃ እንዲሁም በእርስዎ የምትፈልጉት አገልግሎት ከሆነ በተጨማሪ መረጃ እንዲሁም በእርስዎ የምትፈልጉት አገልግሎት ከሆነ በተጨማሪ መረጃ እንዲሁም በእርስዎ የምትፈልጉት አገልግሎት ከሆነ በተጨማሪ መረጃ እንዲሁም በእርስዎ የምትፈልጉት አገልግሎት ከሆነ በተጨማሪ መረጃ እንዲሁም በእርስዎ የምትፈልጉት አገልግሎት ከሆነ በተጨማሪ መረጃ እንዲሁም በእርስዎ የምትፈልጉት አገልግሎት ከሆነ በተጨማሪ መረጃ እንዲሁም በእርስዎ የምትፈልጉት አገልግሎት ከሆነ በተጨማሪ መረጃ እንዲሁም በእርስዎ የምትፈልጉት አገልግሎት ከሆነ በተጨማሪ መረጃ እንዲሁም በእርስዎ የምትፈልጉት አገልግሎት ከሆነ በተጨማሪ መረጃ እንዲሁም በእርስዎ የምትፈልጉት አገልግሎት ከሆነ በተጨማሪ መረጃ እንዲሁም በእርስዎ የምትፈልጉት አገልግሎት ከሆነ በተጨማሪ መረጃ እንዲሁም በእርስዎ የምትፈልጉት አገልግሎት ከሆነ በተጨማሪ መረጃ እንዲሁም በእርስዎ የምትፈልጉት አገልግሎት ከሆነ በተጨማሪ መረጃ እንዲሁም በእርስዎ የምትፈልጉት አገልግሎት ከሆነ በተጨማሪ መረጃ እንዲሁም በእርስዎ የምትፈልጉት አገልግሎት ከሆነ በተጨማሪ መረጃ እንዲሁም በእርስዎ የምትፈልጉት አገልግሎት ከሆነ በተጨማሪ መረጃ እንዲሁም በእርስዎ የምትፈልጉት አገልግሎት ከሆነ በተጨማሪ መረጃ እንዲሁም በእርስዎ የምትፈልጉት አገልግሎት ከሆነ በተጨማሪ መረጃ እንዲሁም በእርስዎ የምትፈልጉት አገልግሎት ከሆነ በተጨማሪ መረጃ እንዲሁም በእርስዎ የምትፈልጉት አገልግሎት ከሆነ በተጨማሪ መረጃ እንዲሁም በእርስዎ የምትፈልጉት አገል\u001b[0m\n",
      "\n",
      "\u001b[1m> Finished chain.\u001b[0m\n"
     ]
    },
    {
     "name": "stderr",
     "output_type": "stream",
     "text": [
      "/home/babi/miniconda3/envs/tenx_week6/lib/python3.12/site-packages/langchain_community/chat_models/openai.py:458: PydanticDeprecatedSince20: The `dict` method is deprecated; use `model_dump` instead. Deprecated in Pydantic V2.0 to be removed in V3.0. See Pydantic V2 Migration Guide at https://errors.pydantic.dev/2.5/migration/\n",
      "  response = response.dict()\n",
      "/home/babi/miniconda3/envs/tenx_week6/lib/python3.12/site-packages/pydantic/main.py:979: PydanticDeprecatedSince20: The `dict` method is deprecated; use `model_dump` instead. Deprecated in Pydantic V2.0 to be removed in V3.0. See Pydantic V2 Migration Guide at https://errors.pydantic.dev/2.5/migration/\n",
      "  warnings.warn('The `dict` method is deprecated; use `model_dump` instead.', DeprecationWarning)\n"
     ]
    },
    {
     "data": {
      "text/plain": [
       "'ገንዘቤ ዲባባ እንደሚለው ስም በአሁኑ ሰአት የታወቀ ሰው ወይም እቃ አይመስለኝም። ሆኖም እሱ ሊሆን የሚችል ነገር እንደ አንድ ስም ወይም ተዋንያን ነገር ሊሆን ይችላል። እባኮትን የምትጠይቁትን በተጨማሪ ዝርዝር እንዲሁም በተመለከተ መረጃ እንዲሁም በእርስዎ የምትፈልጉት ዓይነት መረጃ ከሆነ እንዲሁም በእርስዎ የምትፈልጉት አገልግሎት ከሆነ በተጨማሪ መረጃ እንዲሁም በእርስዎ የምትፈልጉት አገልግሎት ከሆነ በተጨማሪ መረጃ እንዲሁም በእርስዎ የምትፈልጉት አገልግሎት ከሆነ በተጨማሪ መረጃ እንዲሁም በእርስዎ የምትፈልጉት አገልግሎት ከሆነ በተጨማሪ መረጃ እንዲሁም በእርስዎ የምትፈልጉት አገልግሎት ከሆነ በተጨማሪ መረጃ እንዲሁም በእርስዎ የምትፈልጉት አገልግሎት ከሆነ በተጨማሪ መረጃ እንዲሁም በእርስዎ የምትፈልጉት አገልግሎት ከሆነ በተጨማሪ መረጃ እንዲሁም በእርስዎ የምትፈልጉት አገልግሎት ከሆነ በተጨማሪ መረጃ እንዲሁም በእርስዎ የምትፈልጉት አገልግሎት ከሆነ በተጨማሪ መረጃ እንዲሁም በእርስዎ የምትፈልጉት አገልግሎት ከሆነ በተጨማሪ መረጃ እንዲሁም በእርስዎ የምትፈልጉት አገልግሎት ከሆነ በተጨማሪ መረጃ እንዲሁም በእርስዎ የምትፈልጉት አገልግሎት ከሆነ በተጨማሪ መረጃ እንዲሁም በእርስዎ የምትፈልጉት አገልግሎት ከሆነ በተጨማሪ መረጃ እንዲሁም በእርስዎ የምትፈልጉት አገልግሎት ከሆነ በተጨማሪ መረጃ እንዲሁም በእርስዎ የምትፈልጉት አገልግሎት ከሆነ በተጨማሪ መረጃ እንዲሁም በእርስዎ የምትፈልጉት አገልግሎት ከሆነ በተጨማሪ መረጃ እንዲሁም በእርስዎ የምትፈልጉት አገልግሎት ከሆነ በተጨማሪ መረጃ እንዲሁም በእርስዎ የምትፈልጉት አገልግሎት ከሆነ በተጨማሪ መረጃ እንዲሁም በእርስዎ የምትፈልጉት አገልግሎት ከሆነ በተጨማሪ መረጃ እንዲሁም በእርስዎ የምትፈልጉት አገልግሎት ከሆነ በተጨማሪ መረጃ እንዲሁም በእርስዎ የምትፈልጉት አገልግሎት ከሆነ በተጨማሪ መረጃ እንዲሁም በእርስዎ የምትፈልጉት አገልግሎት ከሆነ በተጨማሪ መረጃ እንዲሁም በእርስዎ የምትፈልጉት አገልግሎት ከሆነ በተጨማሪ መረጃ እንዲሁም በእርስዎ የምትፈልጉት አገልግሎት ከሆነ በተጨማሪ መረጃ እንዲሁም በእርስዎ የምትፈልጉት አገልግሎት ከሆነ በተጨማሪ መረጃ እንዲሁም በእርስዎ የምትፈልጉት አገልግሎት ከሆነ በተጨማሪ መረጃ እንዲሁም በእርስዎ የምትፈልጉት አገልግሎት ከሆነ በተጨማሪ መረጃ እንዲሁም በእርስዎ የምትፈልጉት አገልግሎት ከሆነ በተጨማሪ መረጃ እንዲሁም በእርስዎ የምትፈልጉት አገልግሎት ከሆነ በተጨማሪ መረጃ እንዲሁም በእርስዎ የምትፈልጉት አገልግሎት ከሆነ በተጨማሪ መረጃ እንዲሁም በእርስዎ የምትፈልጉት አገልግሎት ከሆነ በተጨማሪ መረጃ እንዲሁም በእርስዎ የምትፈልጉት አገልግሎት ከሆነ በተጨማሪ መረጃ እንዲሁም በእርስዎ የምትፈልጉት አገልግሎት ከሆነ በተጨማሪ መረጃ እንዲሁም በእርስዎ የምትፈልጉት አገልግሎት ከሆነ በተጨማሪ መረጃ እንዲሁም በእርስዎ የምትፈልጉት አገልግሎት ከሆነ በተጨማሪ መረጃ እንዲሁም በእርስዎ የምትፈልጉት አገልግሎት ከሆነ በተጨማሪ መረጃ እንዲሁም በእርስዎ የምትፈልጉት አገል'"
      ]
     },
     "execution_count": 11,
     "metadata": {},
     "output_type": "execute_result"
    },
    {
     "name": "stderr",
     "output_type": "stream",
     "text": [
      "{\"level\":\"info\",\"msg\":\"Created shard langchain_e8de4dcac47249479063752b57b77c8a_hSFnzwKm5OzZ in 733.647µs\",\"time\":\"2024-02-01T23:17:26+03:00\"}\n",
      "{\"action\":\"hnsw_vector_cache_prefill\",\"count\":1000,\"index_id\":\"main\",\"level\":\"info\",\"limit\":1000000000000,\"msg\":\"prefilled vector cache\",\"time\":\"2024-02-01T23:17:26+03:00\",\"took\":105214}\n",
      "{\"level\":\"info\",\"msg\":\"Created shard langchain_a14bda61e6e546c4b5467a573018b800_RQzLugQEE3Ix in 1.006484ms\",\"time\":\"2024-02-01T23:17:59+03:00\"}\n",
      "{\"action\":\"hnsw_vector_cache_prefill\",\"count\":1000,\"index_id\":\"main\",\"level\":\"info\",\"limit\":1000000000000,\"msg\":\"prefilled vector cache\",\"time\":\"2024-02-01T23:17:59+03:00\",\"took\":116681}\n",
      "{\"level\":\"info\",\"msg\":\"Created shard langchain_30a7ed705d2241cdbd1ad4f88e8983a8_SoweZG10lzhr in 881.071µs\",\"time\":\"2024-02-01T23:18:13+03:00\"}\n",
      "{\"action\":\"hnsw_vector_cache_prefill\",\"count\":1000,\"index_id\":\"main\",\"level\":\"info\",\"limit\":1000000000000,\"msg\":\"prefilled vector cache\",\"time\":\"2024-02-01T23:18:13+03:00\",\"took\":83558}\n",
      "{\"level\":\"info\",\"msg\":\"Created shard langchain_fcfb1cbd9912404381cc799ee156efdd_nRPGpzz1KPLm in 636.111µs\",\"time\":\"2024-02-01T23:18:15+03:00\"}\n",
      "{\"action\":\"hnsw_vector_cache_prefill\",\"count\":1000,\"index_id\":\"main\",\"level\":\"info\",\"limit\":1000000000000,\"msg\":\"prefilled vector cache\",\"time\":\"2024-02-01T23:18:15+03:00\",\"took\":81353}\n"
     ]
    }
   ],
   "source": [
    "llm_agent.run(\"ገንዘቤ ዲባባ ማን  ናት?\")"
   ]
  },
  {
   "cell_type": "code",
   "execution_count": 13,
   "metadata": {},
   "outputs": [
    {
     "name": "stdout",
     "output_type": "stream",
     "text": [
      "\n",
      "\n",
      "\u001b[1m> Entering new AgentExecutor chain...\u001b[0m\n",
      "\u001b[32;1m\u001b[1;3mGenzebe Dibaba is an Ethiopian middle- and long-distance runner. She was born on February 8, 1991, in Bekoji, Ethiopia. Genzebe is part of an illustrious family of distance runners; she is the younger sister of three-time Olympic gold medalist Tirunesh Dibaba and Olympic silver medalist Ejegayehu Dibaba, and she is the cousin of former Olympic champion Derartu Tulu.\n",
      "\n",
      "Genzebe has achieved significant success on the international stage, setting multiple world records across various indoor distances, including the 1500m, 3000m, and 5000m. She has also won gold medals at the World Indoor Championships and the World Championships in Athletics.\n",
      "\n",
      "Her accomplishments have made her one of the most prominent figures in the world of athletics, and she continues to be a source of inspiration for many aspiring athletes in Ethiopia and around the world.\u001b[0m\n",
      "\n",
      "\u001b[1m> Finished chain.\u001b[0m\n"
     ]
    },
    {
     "name": "stderr",
     "output_type": "stream",
     "text": [
      "/home/babi/miniconda3/envs/tenx_week6/lib/python3.12/site-packages/langchain_community/chat_models/openai.py:458: PydanticDeprecatedSince20: The `dict` method is deprecated; use `model_dump` instead. Deprecated in Pydantic V2.0 to be removed in V3.0. See Pydantic V2 Migration Guide at https://errors.pydantic.dev/2.5/migration/\n",
      "  response = response.dict()\n",
      "/home/babi/miniconda3/envs/tenx_week6/lib/python3.12/site-packages/pydantic/main.py:979: PydanticDeprecatedSince20: The `dict` method is deprecated; use `model_dump` instead. Deprecated in Pydantic V2.0 to be removed in V3.0. See Pydantic V2 Migration Guide at https://errors.pydantic.dev/2.5/migration/\n",
      "  warnings.warn('The `dict` method is deprecated; use `model_dump` instead.', DeprecationWarning)\n"
     ]
    },
    {
     "data": {
      "text/plain": [
       "'Genzebe Dibaba is an Ethiopian middle- and long-distance runner. She was born on February 8, 1991, in Bekoji, Ethiopia. Genzebe is part of an illustrious family of distance runners; she is the younger sister of three-time Olympic gold medalist Tirunesh Dibaba and Olympic silver medalist Ejegayehu Dibaba, and she is the cousin of former Olympic champion Derartu Tulu.\\n\\nGenzebe has achieved significant success on the international stage, setting multiple world records across various indoor distances, including the 1500m, 3000m, and 5000m. She has also won gold medals at the World Indoor Championships and the World Championships in Athletics.\\n\\nHer accomplishments have made her one of the most prominent figures in the world of athletics, and she continues to be a source of inspiration for many aspiring athletes in Ethiopia and around the world.'"
      ]
     },
     "execution_count": 13,
     "metadata": {},
     "output_type": "execute_result"
    }
   ],
   "source": [
    "llm_agent.run(\"who is genzeba dibaba?\")"
   ]
  },
  {
   "cell_type": "code",
   "execution_count": 14,
   "metadata": {},
   "outputs": [
    {
     "name": "stdout",
     "output_type": "stream",
     "text": [
      "\n",
      "\n",
      "\u001b[1m> Entering new AgentExecutor chain...\u001b[0m\n",
      "\u001b[32;1m\u001b[1;3mግንዘቤ ዲባባ ኢትዮጵያዊት አለቃ እና መርሃግብር አስተዳዳሪ ናት። በመካከለኛ እና በርቀት የሩጫ ፍጥነት ውድድር ውስጥ በብዙ የዓለም አቀፍ እና የኦሊምፒክ ሜዳሊያዎች የተሸከመች እና የተለያዩ የዓለም አቀፍ እና የአፍሪካ ክርክሮች የተሸከመች አሸናፊ ናት። በ2015 ዓ.ም በበኢትዮጵያ በተካሄደው የአፍሪካ አለቃዎች ስፖርት አዋርድ ስነ-ስርዓት ውስጥ ከአለቃዎች አንድ እንደሆነች ተመልክታለች። እሷ የዲባባ ቤተሰብ ከሆነችው ትርንሳን ዲባባ እና ከእሷ እናት እና አባት ከተወለዱት እናት እና አባት ከተወለዱት እናት እና አባት ከተወለዱት እናት እና አባት ከተወለዱት እናት እና አባት ከተወለዱት እናት እና አባት ከተወለዱት እናት እና አባት ከተወለዱት እናት እና አባት ከተወለዱት እናት እና አባት ከተወለዱት እናት እና አባት ከተወለዱት እናት እና አባት ከተወለዱት እናት እና አባት ከተወለዱት እናት እና አባት ከተወለዱት እናት እና አባት ከተወለዱት እናት እና አባት ከተወለዱት እናት እና አባት ከተወለዱት እናት እና አባት ከተወለዱት እናት እና አባት ከተወለዱት እናት እና አባት ከተወለዱት እናት እና አባት ከተወለዱት እናት እና አባት ከተወለዱት እናት እና አባት ከተወለዱት እናት እና አባት ከተወለዱት እናት እና አባት ከተወለዱት እናት እና አባት ከተወለዱት እናት እና አባት ከተወለዱት እናት እና አባት ከተወለዱት እናት እና አባት ከተወለዱት እናት እና አባት ከተወለዱት እናት እና አባት ከተወለዱት እናት እና አባት ከተወለዱት እናት እና አባት ከተወለዱት እናት እና አባት ከተወለዱት እናት እና አባት ከተወለዱት እናት እና አባት ከተወለዱት እናት እና አባት ከተወለዱት እናት እና አባት ከተወለዱት እናት እና አባት ከተወለዱት እናት እና አባት ከተወለዱት እናት እና አባት ከተወለዱት እናት እና አባት ከተወለዱት እናት እና አባት ከተወለዱት እናት እና አባት ከተወለዱት እናት እና አባት ከተወለዱት እናት እና አባት ከተወለዱት እናት እና አባት ከተወለዱት እናት እና አባት ከተወለዱት እናት እና አባት ከተወለዱት እናት እና አባት ከተወለዱት እናት እና አባት ከተወለዱት እናት እና አባት ከተወለዱት እናት እና አባት ከተወለዱት እናት እና አባት ከተወለዱት እናት እና አባት ከተወለዱት እናት እና አባት ከተወለዱት እናት እና አባት ከተወለዱት እናት እና አባት ከተወለዱት እናት እና አባት ከተወለዱት እናት እና አባት ከተወለዱት እናት እና አባት ከተወለዱት እናት እና አባት ከተወለዱት እናት እና አባት ከተወለዱት እናት እና አባት ከተወለዱት እናት እና አባት ከተወለዱት እናት እና አባት ከተወለዱት እናት እና አባት ከተወለዱት እናት እና አባት ከተወለዱት እናት እና አባት ከተወለዱት እናት እና አባት ከተወለዱት እናት እና አባት ከተወለዱት እናት እና አባት ከተወለዱት እናት እና አባት ከተወለዱት እናት እና አባት ከተወለዱት እናት እና አባት ከተወለዱት እናት እና አባት ከተወለዱት እናት እና አባት ከተወለዱት እናት እና አባት ከተወለዱት እናት እና አባት ከተወለዱት እናት እና አባት ከተወለዱት እናት እና አባት ከተወለዱት እናት እና አባት ከተወለዱት እናት እና አባት\u001b[0m\n",
      "\n",
      "\u001b[1m> Finished chain.\u001b[0m\n"
     ]
    },
    {
     "name": "stderr",
     "output_type": "stream",
     "text": [
      "/home/babi/miniconda3/envs/tenx_week6/lib/python3.12/site-packages/langchain_community/chat_models/openai.py:458: PydanticDeprecatedSince20: The `dict` method is deprecated; use `model_dump` instead. Deprecated in Pydantic V2.0 to be removed in V3.0. See Pydantic V2 Migration Guide at https://errors.pydantic.dev/2.5/migration/\n",
      "  response = response.dict()\n",
      "/home/babi/miniconda3/envs/tenx_week6/lib/python3.12/site-packages/pydantic/main.py:979: PydanticDeprecatedSince20: The `dict` method is deprecated; use `model_dump` instead. Deprecated in Pydantic V2.0 to be removed in V3.0. See Pydantic V2 Migration Guide at https://errors.pydantic.dev/2.5/migration/\n",
      "  warnings.warn('The `dict` method is deprecated; use `model_dump` instead.', DeprecationWarning)\n"
     ]
    },
    {
     "data": {
      "text/plain": [
       "'ግንዘቤ ዲባባ ኢትዮጵያዊት አለቃ እና መርሃግብር አስተዳዳሪ ናት። በመካከለኛ እና በርቀት የሩጫ ፍጥነት ውድድር ውስጥ በብዙ የዓለም አቀፍ እና የኦሊምፒክ ሜዳሊያዎች የተሸከመች እና የተለያዩ የዓለም አቀፍ እና የአፍሪካ ክርክሮች የተሸከመች አሸናፊ ናት። በ2015 ዓ.ም በበኢትዮጵያ በተካሄደው የአፍሪካ አለቃዎች ስፖርት አዋርድ ስነ-ስርዓት ውስጥ ከአለቃዎች አንድ እንደሆነች ተመልክታለች። እሷ የዲባባ ቤተሰብ ከሆነችው ትርንሳን ዲባባ እና ከእሷ እናት እና አባት ከተወለዱት እናት እና አባት ከተወለዱት እናት እና አባት ከተወለዱት እናት እና አባት ከተወለዱት እናት እና አባት ከተወለዱት እናት እና አባት ከተወለዱት እናት እና አባት ከተወለዱት እናት እና አባት ከተወለዱት እናት እና አባት ከተወለዱት እናት እና አባት ከተወለዱት እናት እና አባት ከተወለዱት እናት እና አባት ከተወለዱት እናት እና አባት ከተወለዱት እናት እና አባት ከተወለዱት እናት እና አባት ከተወለዱት እናት እና አባት ከተወለዱት እናት እና አባት ከተወለዱት እናት እና አባት ከተወለዱት እናት እና አባት ከተወለዱት እናት እና አባት ከተወለዱት እናት እና አባት ከተወለዱት እናት እና አባት ከተወለዱት እናት እና አባት ከተወለዱት እናት እና አባት ከተወለዱት እናት እና አባት ከተወለዱት እናት እና አባት ከተወለዱት እናት እና አባት ከተወለዱት እናት እና አባት ከተወለዱት እናት እና አባት ከተወለዱት እናት እና አባት ከተወለዱት እናት እና አባት ከተወለዱት እናት እና አባት ከተወለዱት እናት እና አባት ከተወለዱት እናት እና አባት ከተወለዱት እናት እና አባት ከተወለዱት እናት እና አባት ከተወለዱት እናት እና አባት ከተወለዱት እናት እና አባት ከተወለዱት እናት እና አባት ከተወለዱት እናት እና አባት ከተወለዱት እናት እና አባት ከተወለዱት እናት እና አባት ከተወለዱት እናት እና አባት ከተወለዱት እናት እና አባት ከተወለዱት እናት እና አባት ከተወለዱት እናት እና አባት ከተወለዱት እናት እና አባት ከተወለዱት እናት እና አባት ከተወለዱት እናት እና አባት ከተወለዱት እናት እና አባት ከተወለዱት እናት እና አባት ከተወለዱት እናት እና አባት ከተወለዱት እናት እና አባት ከተወለዱት እናት እና አባት ከተወለዱት እናት እና አባት ከተወለዱት እናት እና አባት ከተወለዱት እናት እና አባት ከተወለዱት እናት እና አባት ከተወለዱት እናት እና አባት ከተወለዱት እናት እና አባት ከተወለዱት እናት እና አባት ከተወለዱት እናት እና አባት ከተወለዱት እናት እና አባት ከተወለዱት እናት እና አባት ከተወለዱት እናት እና አባት ከተወለዱት እናት እና አባት ከተወለዱት እናት እና አባት ከተወለዱት እናት እና አባት ከተወለዱት እናት እና አባት ከተወለዱት እናት እና አባት ከተወለዱት እናት እና አባት ከተወለዱት እናት እና አባት ከተወለዱት እናት እና አባት ከተወለዱት እናት እና አባት ከተወለዱት እናት እና አባት ከተወለዱት እናት እና አባት ከተወለዱት እናት እና አባት ከተወለዱት እናት እና አባት ከተወለዱት እናት እና አባት ከተወለዱት እናት እና አባት ከተወለዱት እናት እና አባት ከተወለዱት እናት እና አባት'"
      ]
     },
     "execution_count": 14,
     "metadata": {},
     "output_type": "execute_result"
    }
   ],
   "source": [
    "llm_agent.run(\"who is genzeba dibaba? give me your response in Amharic language\")"
   ]
  },
  {
   "cell_type": "code",
   "execution_count": 11,
   "metadata": {},
   "outputs": [
    {
     "name": "stderr",
     "output_type": "stream",
     "text": [
      "/home/babi/miniconda3/envs/tenx_week6/lib/python3.12/site-packages/langchain_community/embeddings/openai.py:500: PydanticDeprecatedSince20: The `dict` method is deprecated; use `model_dump` instead. Deprecated in Pydantic V2.0 to be removed in V3.0. See Pydantic V2 Migration Guide at https://errors.pydantic.dev/2.5/migration/\n",
      "  response = response.dict()\n",
      "/home/babi/miniconda3/envs/tenx_week6/lib/python3.12/site-packages/pydantic/main.py:979: PydanticDeprecatedSince20: The `dict` method is deprecated; use `model_dump` instead. Deprecated in Pydantic V2.0 to be removed in V3.0. See Pydantic V2 Migration Guide at https://errors.pydantic.dev/2.5/migration/\n",
      "  warnings.warn('The `dict` method is deprecated; use `model_dump` instead.', DeprecationWarning)\n"
     ]
    },
    {
     "data": {
      "text/plain": [
       "[Document(page_content='ዛሬ በሂወት ካላችሁ ነጋችሁን ማስተካከል ትችላላችሁ። በትናንት ውስጥ ስላጣችሁት \\nነገር አታስቡ። ዛሬን ብቻ በሂወት በመኖራችሁ ፈጣሪን አመስግኑ። ዛሬ ውስጥ ጠንካራ \\nከሆናችሁ ነጋችሁ የተዋበ ይሆናል። ነጋችሁ የሚጥም ይሆናል። አሁንም አሁንም አሁንም\\nበሂወት መኖራችሁን ብቻ እያያችሁ አሜን በሉ። ፈጣሪንም አመስግኑ! ከተሰጣችሁ ስጦታዎች\\nሁሉ ህይወታችሁ ይበልጣልና፤በሂወት ካላችሁ ደሞ በነጋችሁ ላይ ለውጥ መፍጠር ትችላላችሁ።', metadata={'source': '../prompts/context.txt'}),\n",
       " Document(page_content='ኢትዮጵያ አይደለችም፣ችግሩ የሥርኣት ችግር ነው። የቤቴ መቃጠል ለትኋኑ በጀኝ እንዳለው\\nቂል እንዳንሆን። ኢትዮጵያዊነትን መካድ የራስን ማንነት መካድ ብቻ አይደለም። አባቶችንና\\nእናቶችን፣ቅድም አያቶችን ከነቅርሳቸው መካድ ነው። በእንደዚህ ኣይነቱ ክህደት ላይ የተመሰረተ\\nማንነት የት ይደርሳል?ከበሽታ በቀርስ ትርፉ ምን ይሆናል? ክህደት ራሱን የቻለ በሽታ\\nሲሆን ማስካድ ደግሞ የባሰ ነው። ክዶ ማስካድ ታምሜያለሁኝ፣ ታመሙ እንደማለት\\nነ። አስታማሚ እንኳን እንዳይገኝ የማድረጉ ጥረት የበሽታውን ምለኣትና ፅናት \\nያመለክታል።', metadata={'source': '../prompts/context.txt'}),\n",
       " Document(page_content='ታሪክ የሌለው ህዝብ ታሪካዊ ስራ ለመስራት አይጓጓም። ነፃነትም የማያውቅ\\nህዝብ ነፃነቱን ለማግኘት አይደክምም። ኢትዮጵያ የረጅም ዘመን ታሪክ ያላት ነፃ \\nሀገር ስለሆነች ልጆቿ ታሪኳን አውቀው የነፃነቷን ጉልላት ጠብቀው/ ከተፈፀሙ ስህተቶች \\nተምረው እንዲኖሩ ግዴታቸው ነው። አንድ ወጣት የሀገሩን ታሪክ ሳያውቅና ሳያጠናቅቅ\\nየአውሮጳንና የአሜሪካንን ታሪክ ለማሳመር ቢሞክር << በቅሎ አባትህ ማነው? ቢሉት\\n\\nፈረስ አጎቴ ነው>> ይላል እንደሚባለው የሚያሳፍር ይሆናል። በሀገራችን ተስፋ አንቆርጥም!\\nኢትዮጵያ ኣደይ !\\nአደራ ልጄ ገንዘብ ውርሴን አምጪ አትበይኝ አደራ መኪና ቪላ ፎቅ አትበይኝ\\nአደራ ባቡር አውሮፕላን አትበይኝ አደራ እናትሽ ድሀ ነኝ ሀገር ተቀበይኝ ሰንደ\\nቅ እንዳበራ ደስ አሰኝኝ ልጄ እኔም ባንቺ ልኩራ። ገጣሚ : ሰላማዊት አበባየሁ\\nኢትዮጵያ ሀገሬ መመኪያ ነሽ ክብሬ !', metadata={'source': '../prompts/context.txt'}),\n",
       " Document(page_content='ኢትዮጵያዊነት ኢትዮጵያዊነት ብዙ የተለያዩ ህብረተሰቦች የተዋህዱበት አካል ክፍል\\nመሆን ነው። ኢትዮጵያዊነት ከጎሰኝኛት በላይና ውጭ የሆነ አጠቃላይ ማንነት ነው።\\nኢትዮጵያዊነት የዚች ውጥንቅጥ መሬት ባለቤትነት ነው፣ ኢትዮጵያዊነት የደጋው\\nብርድና የቆላው ሙቀት የሚገናኙበት፣ የደጋው ዝናብም ከቆላው ወንዝ ጋር\\n\\nየተዛመደበት ሃይል ነው። ኢትዮጵያዊነት ለሙሴ፣ ለክርስቶስና ለመሀመድ የሚጨሰው \\nእጣን በእርገት መጥቶ የሚደባለቅበት እምነት ነው። ኢትዮጵያዊነት በቄጤማ ጉዝጓዝ\\nላይ የሚታየው መተሳሰብና መፈቃቀር ነው። ኢትዮጵያዊነት የአስተዋይነት፣የሚዛናዊነት \\nየጨዋነት ባሕርይ ነው። ኢትዮጵያዊነት ረዢምና ተፅፎ ያላለቀ ታሪክ ነው፤ ብዙ ሰዎችም\\nየተሰዉለት ስሜት ነው።', metadata={'source': '../prompts/context.txt'})]"
      ]
     },
     "execution_count": 11,
     "metadata": {},
     "output_type": "execute_result"
    }
   ],
   "source": [
    "retriever.get_relevant_documents(\"ገንዘቤ ዲባባ ማን  ናት?\")"
   ]
  },
  {
   "cell_type": "code",
   "execution_count": 12,
   "metadata": {},
   "outputs": [
    {
     "name": "stderr",
     "output_type": "stream",
     "text": [
      "/home/babi/miniconda3/envs/tenx_week6/lib/python3.12/site-packages/langchain_community/embeddings/openai.py:500: PydanticDeprecatedSince20: The `dict` method is deprecated; use `model_dump` instead. Deprecated in Pydantic V2.0 to be removed in V3.0. See Pydantic V2 Migration Guide at https://errors.pydantic.dev/2.5/migration/\n",
      "  response = response.dict()\n",
      "/home/babi/miniconda3/envs/tenx_week6/lib/python3.12/site-packages/pydantic/main.py:979: PydanticDeprecatedSince20: The `dict` method is deprecated; use `model_dump` instead. Deprecated in Pydantic V2.0 to be removed in V3.0. See Pydantic V2 Migration Guide at https://errors.pydantic.dev/2.5/migration/\n",
      "  warnings.warn('The `dict` method is deprecated; use `model_dump` instead.', DeprecationWarning)\n"
     ]
    },
    {
     "data": {
      "text/plain": [
       "[Document(page_content='ኢትዮጵያዊነት ኢትዮጵያዊነት ብዙ የተለያዩ ህብረተሰቦች የተዋህዱበት አካል ክፍል\\nመሆን ነው። ኢትዮጵያዊነት ከጎሰኝኛት በላይና ውጭ የሆነ አጠቃላይ ማንነት ነው።\\nኢትዮጵያዊነት የዚች ውጥንቅጥ መሬት ባለቤትነት ነው፣ ኢትዮጵያዊነት የደጋው\\nብርድና የቆላው ሙቀት የሚገናኙበት፣ የደጋው ዝናብም ከቆላው ወንዝ ጋር\\n\\nየተዛመደበት ሃይል ነው። ኢትዮጵያዊነት ለሙሴ፣ ለክርስቶስና ለመሀመድ የሚጨሰው \\nእጣን በእርገት መጥቶ የሚደባለቅበት እምነት ነው። ኢትዮጵያዊነት በቄጤማ ጉዝጓዝ\\nላይ የሚታየው መተሳሰብና መፈቃቀር ነው። ኢትዮጵያዊነት የአስተዋይነት፣የሚዛናዊነት \\nየጨዋነት ባሕርይ ነው። ኢትዮጵያዊነት ረዢምና ተፅፎ ያላለቀ ታሪክ ነው፤ ብዙ ሰዎችም\\nየተሰዉለት ስሜት ነው።', metadata={'source': '../prompts/context.txt'}),\n",
       " Document(page_content='ብሩክ የሺጥላ\\nበለንደን የአለም አትሌቲክስ ሻምፒዮና ኢትዮጵያዊያን አትሌቶች የሚሳተፉበት ፕሮግራም\\nሀምሌ 22 ቀን 1928 ስምንት ወታደሮች በስተጀርባቸው ሃያ እርምጃ ርቀው ተንበርክከው\\nበተንጠቀቅ ቆሙ። ወዲያው አዛዡ «ተኩስ» በማለት ትእዛዝ ሲሰጥ ስምንቱም ተኩሰው \\nመቷቸው። ግን በስምንት ጥይት ሳይሞቱ ቀሩ። መሞታቸውንና አለመሞታቸውን ለማረጋገጥ ዶክተር ተጠራ።\\nዶክተሩም እንዳልሞቱ አረጋገጠ። ከዚያም ሌላ ወታደር በስስት የሽጉጥ ጥይት ራስቅላቸውን መትቶ ገደላቸው። \\nአቡነ ጴጥሮስ ለእናት ሀገራቸው ኢትዮጵያ ክብር ሲሉ የሞትን ፅዋ ተጎነጩ ። ለዛሬ እኛነታችን ያለፉት ትውልዶች \\nብዙ ዋጋ ከፍለዋል እና ሊዘከሩ፣ሊመሰገኑና ሊከበሩ ይገባል። የሃላው ከሌለ የለም የፊቱ !', metadata={'source': '../prompts/context.txt'}),\n",
       " Document(page_content='ዛሬ በሂወት ካላችሁ ነጋችሁን ማስተካከል ትችላላችሁ። በትናንት ውስጥ ስላጣችሁት \\nነገር አታስቡ። ዛሬን ብቻ በሂወት በመኖራችሁ ፈጣሪን አመስግኑ። ዛሬ ውስጥ ጠንካራ \\nከሆናችሁ ነጋችሁ የተዋበ ይሆናል። ነጋችሁ የሚጥም ይሆናል። አሁንም አሁንም አሁንም\\nበሂወት መኖራችሁን ብቻ እያያችሁ አሜን በሉ። ፈጣሪንም አመስግኑ! ከተሰጣችሁ ስጦታዎች\\nሁሉ ህይወታችሁ ይበልጣልና፤በሂወት ካላችሁ ደሞ በነጋችሁ ላይ ለውጥ መፍጠር ትችላላችሁ።', metadata={'source': '../prompts/context.txt'}),\n",
       " Document(page_content='ኢትዮጵያዊነት ስቃይና መከራ ነው፤ ኢትዮጵያዊነት ኩራትና\\nክብርም ነው። ኢትዮጵያዊነት ጭቆናና ጥቃት ነው፤ ኢትዮጵያዊነት አሻፈረኝና እምቢ \\nባይነትም ነው። የኢትዮጵያዊነት ኣላማ ያለችውንና የኖረችውን ኢትዮጵያን እንደገና \\nለመፍጠር አይደለም። የኢትዮጵያ ኣላማ ለኢትዮጵያዊያን በሙሉ የሚስማማ እድገታቸውንም\\nየሚያፋጥንና፣ህብረታቸውን የሚያጠነክር ሥርኣትን መፍጠር ነው። የኢትዮጵያዊነት ችግር', metadata={'source': '../prompts/context.txt'})]"
      ]
     },
     "execution_count": 12,
     "metadata": {},
     "output_type": "execute_result"
    }
   ],
   "source": [
    "retriever.get_relevant_documents(\"who is genzeba dibaba?\")"
   ]
  }
 ],
 "metadata": {
  "kernelspec": {
   "display_name": "tenx_week7",
   "language": "python",
   "name": "python3"
  },
  "language_info": {
   "codemirror_mode": {
    "name": "ipython",
    "version": 3
   },
   "file_extension": ".py",
   "mimetype": "text/x-python",
   "name": "python",
   "nbconvert_exporter": "python",
   "pygments_lexer": "ipython3",
   "version": "3.1.0"
  }
 },
 "nbformat": 4,
 "nbformat_minor": 2
}
