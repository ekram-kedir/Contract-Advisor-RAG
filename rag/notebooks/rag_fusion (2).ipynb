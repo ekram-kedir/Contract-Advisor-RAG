{
  "cells": [
    {
      "cell_type": "markdown",
      "id": "993c2768",
      "metadata": {
        "id": "993c2768"
      },
      "source": [
        "# RAG Fusion\n",
        "\n",
        "Re-implemented from [this GitHub repo](https://github.com/Raudaschl/rag-fusion), all credit to original author\n",
        "\n",
        "> RAG-Fusion, a search methodology that aims to bridge the gap between traditional search paradigms and the multifaceted dimensions of human queries. Inspired by the capabilities of Retrieval Augmented Generation (RAG), this project goes a step further by employing multiple query generation and Reciprocal Rank Fusion to re-rank search results."
      ]
    },
    {
      "cell_type": "markdown",
      "id": "ebcc6791",
      "metadata": {
        "id": "ebcc6791"
      },
      "source": [
        "## Setup\n",
        "\n",
        "For this example, we will use Pinecone and some fake data"
      ]
    },
    {
      "cell_type": "markdown",
      "source": [
        "**Install Dependencies:**"
      ],
      "metadata": {
        "id": "1eMc29CD29Uv"
      },
      "id": "1eMc29CD29Uv"
    },
    {
      "cell_type": "code",
      "source": [
        "pip install pinecone-client langchain openai tiktoken langchainhub"
      ],
      "metadata": {
        "id": "Fshyc5ztwqT8"
      },
      "id": "Fshyc5ztwqT8",
      "execution_count": null,
      "outputs": []
    },
    {
      "cell_type": "markdown",
      "source": [
        "**Add your API keys and pinecone environment:**"
      ],
      "metadata": {
        "id": "riX9n-uU3BSv"
      },
      "id": "riX9n-uU3BSv"
    },
    {
      "cell_type": "code",
      "source": [
        "PINECONE_API_KEY=\"\"\n",
        "PINECONE_ENVIRONMENT=\"\"\n",
        "PINECONE_INDEX_NAME=\"\"\n",
        "OPENAI_API_KEY=\"\"\n"
      ],
      "metadata": {
        "id": "IHaZCejj3GRm"
      },
      "id": "IHaZCejj3GRm",
      "execution_count": null,
      "outputs": []
    },
    {
      "cell_type": "code",
      "execution_count": null,
      "id": "661a1c36",
      "metadata": {
        "colab": {
          "base_uri": "https://localhost:8080/"
        },
        "id": "661a1c36",
        "outputId": "4699a46e-7bcd-4e61-e514-cb2b3f8367fd"
      },
      "outputs": [
        {
          "output_type": "stream",
          "name": "stderr",
          "text": [
            "/usr/local/lib/python3.10/dist-packages/pinecone/index.py:4: TqdmExperimentalWarning: Using `tqdm.autonotebook.tqdm` in notebook mode. Use `tqdm.tqdm` instead to force console mode (e.g. in jupyter console)\n",
            "  from tqdm.autonotebook import tqdm\n"
          ]
        }
      ],
      "source": [
        "import pinecone\n",
        "from langchain.vectorstores import Pinecone\n",
        "from langchain.embeddings import OpenAIEmbeddings\n",
        "\n",
        "pinecone.init(api_key=PINECONE_API_KEY,environment=PINECONE_ENVIRONMENT)"
      ]
    },
    {
      "cell_type": "code",
      "execution_count": null,
      "id": "48ef7e93",
      "metadata": {
        "id": "48ef7e93"
      },
      "outputs": [],
      "source": [
        "all_documents = {\n",
        "    \"doc1\": \"Climate change and economic impact.\",\n",
        "    \"doc2\": \"Public health concerns due to climate change.\",\n",
        "    \"doc3\": \"Climate change: A social perspective.\",\n",
        "    \"doc4\": \"Technological solutions to climate change.\",\n",
        "    \"doc5\": \"Policy changes needed to combat climate change.\",\n",
        "    \"doc6\": \"Climate change and its impact on biodiversity.\",\n",
        "    \"doc7\": \"Climate change: The science and models.\",\n",
        "    \"doc8\": \"Global warming: A subset of climate change.\",\n",
        "    \"doc9\": \"How climate change affects daily weather.\",\n",
        "    \"doc10\": \"The history of climate change activism.\"\n",
        "}"
      ]
    },
    {
      "cell_type": "markdown",
      "id": "22ddd041",
      "metadata": {
        "id": "22ddd041"
      },
      "source": [
        "## Define the Query Generator\n",
        "\n",
        "We will now define a chain to do the query generation"
      ]
    },
    {
      "cell_type": "code",
      "execution_count": null,
      "id": "fde89f0b",
      "metadata": {
        "id": "fde89f0b"
      },
      "outputs": [],
      "source": [
        "vectorstore = Pinecone.from_texts(list(all_documents.values()), OpenAIEmbeddings(openai_api_key=OPENAI_API_KEY), index_name=PINECONE_INDEX_NAME)"
      ]
    },
    {
      "cell_type": "code",
      "execution_count": null,
      "id": "1d547524",
      "metadata": {
        "id": "1d547524"
      },
      "outputs": [],
      "source": [
        "from langchain.chat_models import ChatOpenAI\n",
        "from langchain.prompts import ChatPromptTemplate\n",
        "from langchain.schema.output_parser import StrOutputParser"
      ]
    },
    {
      "cell_type": "code",
      "execution_count": null,
      "id": "af9ab4db",
      "metadata": {
        "id": "af9ab4db"
      },
      "outputs": [],
      "source": [
        "from langchain import hub\n",
        "\n",
        "prompt = hub.pull('langchain-ai/rag-fusion-query-generation')"
      ]
    },
    {
      "cell_type": "code",
      "execution_count": null,
      "id": "3628b552",
      "metadata": {
        "id": "3628b552"
      },
      "outputs": [],
      "source": [
        "# prompt = ChatPromptTemplate.from_messages([\n",
        "#     (\"system\", \"You are a helpful assistant that generates multiple search queries based on a single input query.\"),\n",
        "#     (\"user\", \"Generate multiple search queries related to: {original_query}\"),\n",
        "#     (\"user\", \"OUTPUT (4 queries):\")\n",
        "# ])"
      ]
    },
    {
      "cell_type": "code",
      "execution_count": null,
      "id": "8d6cbb73",
      "metadata": {
        "id": "8d6cbb73"
      },
      "outputs": [],
      "source": [
        "generate_queries = prompt | ChatOpenAI(temperature=0,openai_api_key=OPENAI_API_KEY) | StrOutputParser() | (lambda x: x.split(\"\\n\"))"
      ]
    },
    {
      "cell_type": "markdown",
      "id": "ee2824cd",
      "metadata": {
        "id": "ee2824cd"
      },
      "source": [
        "## Define the full chain\n",
        "\n",
        "We can now put it all together and define the full chain. This chain:\n",
        "    \n",
        "    1. Generates a bunch of queries\n",
        "    2. Looks up each query in the retriever\n",
        "    3. Joins all the results together using reciprocal rank fusion\n",
        "    \n",
        "    \n",
        "Note that it does NOT do a final generation step"
      ]
    },
    {
      "cell_type": "code",
      "execution_count": null,
      "id": "ca0bfec4",
      "metadata": {
        "id": "ca0bfec4"
      },
      "outputs": [],
      "source": [
        "original_query = \"impact of climate change\""
      ]
    },
    {
      "cell_type": "code",
      "execution_count": null,
      "id": "02437d65",
      "metadata": {
        "id": "02437d65"
      },
      "outputs": [],
      "source": [
        "vectorstore = Pinecone.from_existing_index(\"rag-fusion\", OpenAIEmbeddings(openai_api_key=OPENAI_API_KEY))\n",
        "retriever = vectorstore.as_retriever()"
      ]
    },
    {
      "cell_type": "code",
      "execution_count": null,
      "id": "46a9a0e6",
      "metadata": {
        "id": "46a9a0e6"
      },
      "outputs": [],
      "source": [
        "from langchain.load import dumps, loads\n",
        "def reciprocal_rank_fusion(results: list[list], k=60):\n",
        "    fused_scores = {}\n",
        "    for docs in results:\n",
        "        # Assumes the docs are returned in sorted order of relevance\n",
        "        for rank, doc in enumerate(docs):\n",
        "            doc_str = dumps(doc)\n",
        "            if doc_str not in fused_scores:\n",
        "                fused_scores[doc_str] = 0\n",
        "            previous_score = fused_scores[doc_str]\n",
        "            fused_scores[doc_str] += 1 / (rank + k)\n",
        "\n",
        "    reranked_results = [(loads(doc), score) for doc, score in sorted(fused_scores.items(), key=lambda x: x[1], reverse=True)]\n",
        "    return reranked_results"
      ]
    },
    {
      "cell_type": "code",
      "execution_count": null,
      "id": "3f9d4502",
      "metadata": {
        "id": "3f9d4502"
      },
      "outputs": [],
      "source": [
        "chain = generate_queries | retriever.map() | reciprocal_rank_fusion"
      ]
    },
    {
      "cell_type": "code",
      "execution_count": null,
      "id": "d70c4fcd",
      "metadata": {
        "colab": {
          "base_uri": "https://localhost:8080/"
        },
        "id": "d70c4fcd",
        "outputId": "db22b26b-2f01-4329-9c00-7d3c1fab1014"
      },
      "outputs": [
        {
          "output_type": "execute_result",
          "data": {
            "text/plain": [
              "[(Document(page_content='Climate change and economic impact.'),\n",
              "  0.08093517329371375),\n",
              " (Document(page_content='Climate change and its impact on biodiversity.'),\n",
              "  0.06506215742069787),\n",
              " (Document(page_content='Public health concerns due to climate change.'),\n",
              "  0.049189141547682),\n",
              " (Document(page_content='Technological solutions to climate change.'),\n",
              "  0.049189141547682),\n",
              " (Document(page_content='Policy changes needed to combat climate change.'),\n",
              "  0.015873015873015872)]"
            ]
          },
          "metadata": {},
          "execution_count": 14
        }
      ],
      "source": [
        "chain.invoke({\"original_query\": original_query})"
      ]
    },
    {
      "cell_type": "code",
      "execution_count": null,
      "id": "7866e551",
      "metadata": {
        "id": "7866e551"
      },
      "outputs": [],
      "source": []
    }
  ],
  "metadata": {
    "kernelspec": {
      "display_name": "Python 3 (ipykernel)",
      "language": "python",
      "name": "python3"
    },
    "language_info": {
      "codemirror_mode": {
        "name": "ipython",
        "version": 3
      },
      "file_extension": ".py",
      "mimetype": "text/x-python",
      "name": "python",
      "nbconvert_exporter": "python",
      "pygments_lexer": "ipython3",
      "version": "3.10.1"
    },
    "colab": {
      "provenance": []
    }
  },
  "nbformat": 4,
  "nbformat_minor": 5
}