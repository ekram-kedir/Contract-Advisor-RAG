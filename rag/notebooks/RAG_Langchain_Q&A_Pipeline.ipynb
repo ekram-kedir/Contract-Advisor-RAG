{
 "cells": [
  {
   "cell_type": "markdown",
   "metadata": {},
   "source": [
    "## RAG Langchain Q&A Pipeline"
   ]
  },
  {
   "cell_type": "markdown",
   "metadata": {},
   "source": [
    "### Import packages"
   ]
  },
  {
   "cell_type": "code",
   "execution_count": 1,
   "metadata": {},
   "outputs": [],
   "source": [
    "from langchain.document_loaders import TextLoader\n",
    "from langchain.text_splitter import CharacterTextSplitter  \n",
    "from langchain.chat_models import ChatOpenAI\n",
    "from langchain.vectorstores import Weaviate\n",
    "from langchain.agents import AgentType, initialize_agent\n",
    "from langchain.schema import SystemMessage\n",
    "from langchain.embeddings import OpenAIEmbeddings\n",
    "from typing import List,Union\n",
    "from weaviate.embedded import EmbeddedOptions\n",
    "from weaviate.embedded import EmbeddedOptions\n",
    "from dotenv import load_dotenv,find_dotenv"
   ]
  },
  {
   "cell_type": "code",
   "execution_count": 2,
   "metadata": {},
   "outputs": [
    {
     "name": "stderr",
     "output_type": "stream",
     "text": [
      "/opt/homebrew/lib/python3.11/site-packages/tqdm/auto.py:21: TqdmWarning: IProgress not found. Please update jupyter and ipywidgets. See https://ipywidgets.readthedocs.io/en/stable/user_install.html\n",
      "  from .autonotebook import tqdm as notebook_tqdm\n",
      "/opt/homebrew/lib/python3.11/site-packages/huggingface_hub/inference/_text_generation.py:121: PydanticDeprecatedSince20: Pydantic V1 style `@validator` validators are deprecated. You should migrate to Pydantic V2 style `@field_validator` validators, see the migration guide for more details. Deprecated in Pydantic V2.0 to be removed in V3.0. See Pydantic V2 Migration Guide at https://errors.pydantic.dev/2.6/migration/\n",
      "  @validator(\"best_of\")\n",
      "/opt/homebrew/lib/python3.11/site-packages/huggingface_hub/inference/_text_generation.py:140: PydanticDeprecatedSince20: Pydantic V1 style `@validator` validators are deprecated. You should migrate to Pydantic V2 style `@field_validator` validators, see the migration guide for more details. Deprecated in Pydantic V2.0 to be removed in V3.0. See Pydantic V2 Migration Guide at https://errors.pydantic.dev/2.6/migration/\n",
      "  @validator(\"repetition_penalty\")\n",
      "/opt/homebrew/lib/python3.11/site-packages/huggingface_hub/inference/_text_generation.py:146: PydanticDeprecatedSince20: Pydantic V1 style `@validator` validators are deprecated. You should migrate to Pydantic V2 style `@field_validator` validators, see the migration guide for more details. Deprecated in Pydantic V2.0 to be removed in V3.0. See Pydantic V2 Migration Guide at https://errors.pydantic.dev/2.6/migration/\n",
      "  @validator(\"seed\")\n",
      "/opt/homebrew/lib/python3.11/site-packages/huggingface_hub/inference/_text_generation.py:152: PydanticDeprecatedSince20: Pydantic V1 style `@validator` validators are deprecated. You should migrate to Pydantic V2 style `@field_validator` validators, see the migration guide for more details. Deprecated in Pydantic V2.0 to be removed in V3.0. See Pydantic V2 Migration Guide at https://errors.pydantic.dev/2.6/migration/\n",
      "  @validator(\"temperature\")\n",
      "/opt/homebrew/lib/python3.11/site-packages/huggingface_hub/inference/_text_generation.py:158: PydanticDeprecatedSince20: Pydantic V1 style `@validator` validators are deprecated. You should migrate to Pydantic V2 style `@field_validator` validators, see the migration guide for more details. Deprecated in Pydantic V2.0 to be removed in V3.0. See Pydantic V2 Migration Guide at https://errors.pydantic.dev/2.6/migration/\n",
      "  @validator(\"top_k\")\n",
      "/opt/homebrew/lib/python3.11/site-packages/huggingface_hub/inference/_text_generation.py:164: PydanticDeprecatedSince20: Pydantic V1 style `@validator` validators are deprecated. You should migrate to Pydantic V2 style `@field_validator` validators, see the migration guide for more details. Deprecated in Pydantic V2.0 to be removed in V3.0. See Pydantic V2 Migration Guide at https://errors.pydantic.dev/2.6/migration/\n",
      "  @validator(\"top_p\")\n",
      "/opt/homebrew/lib/python3.11/site-packages/huggingface_hub/inference/_text_generation.py:170: PydanticDeprecatedSince20: Pydantic V1 style `@validator` validators are deprecated. You should migrate to Pydantic V2 style `@field_validator` validators, see the migration guide for more details. Deprecated in Pydantic V2.0 to be removed in V3.0. See Pydantic V2 Migration Guide at https://errors.pydantic.dev/2.6/migration/\n",
      "  @validator(\"truncate\")\n",
      "/opt/homebrew/lib/python3.11/site-packages/huggingface_hub/inference/_text_generation.py:176: PydanticDeprecatedSince20: Pydantic V1 style `@validator` validators are deprecated. You should migrate to Pydantic V2 style `@field_validator` validators, see the migration guide for more details. Deprecated in Pydantic V2.0 to be removed in V3.0. See Pydantic V2 Migration Guide at https://errors.pydantic.dev/2.6/migration/\n",
      "  @validator(\"typical_p\")\n",
      "/opt/homebrew/lib/python3.11/site-packages/huggingface_hub/inference/_text_generation.py:204: PydanticDeprecatedSince20: Pydantic V1 style `@validator` validators are deprecated. You should migrate to Pydantic V2 style `@field_validator` validators, see the migration guide for more details. Deprecated in Pydantic V2.0 to be removed in V3.0. See Pydantic V2 Migration Guide at https://errors.pydantic.dev/2.6/migration/\n",
      "  @validator(\"inputs\")\n",
      "/opt/homebrew/lib/python3.11/site-packages/huggingface_hub/inference/_text_generation.py:210: PydanticDeprecatedSince20: Pydantic V1 style `@validator` validators are deprecated. You should migrate to Pydantic V2 style `@field_validator` validators, see the migration guide for more details. Deprecated in Pydantic V2.0 to be removed in V3.0. See Pydantic V2 Migration Guide at https://errors.pydantic.dev/2.6/migration/\n",
      "  @validator(\"stream\")\n"
     ]
    }
   ],
   "source": [
    "import sys, os\n",
    "import pandas as pd\n",
    "sys.path.append(os.path.abspath(os.path.join('../scripts')))\n",
    "from rag_utils import data_loader, create_retriever\n",
    "from langchain_utils import get_agent_executor"
   ]
  },
  {
   "cell_type": "markdown",
   "metadata": {},
   "source": [
    "### Load the data and create chunks"
   ]
  },
  {
   "cell_type": "code",
   "execution_count": 3,
   "metadata": {},
   "outputs": [
    {
     "name": "stderr",
     "output_type": "stream",
     "text": [
      "Created a chunk of size 570, which is longer than the specified 500\n",
      "Created a chunk of size 3416, which is longer than the specified 500\n",
      "Created a chunk of size 4175, which is longer than the specified 500\n",
      "Created a chunk of size 4624, which is longer than the specified 500\n"
     ]
    },
    {
     "name": "stdout",
     "output_type": "stream",
     "text": [
      "Data loaded to vector database successfully\n"
     ]
    },
    {
     "data": {
      "text/plain": [
       "9"
      ]
     },
     "execution_count": 3,
     "metadata": {},
     "output_type": "execute_result"
    }
   ],
   "source": [
    "chuncks = data_loader(\"../prompts/context.txt\")\n",
    "len(chuncks)"
   ]
  },
  {
   "cell_type": "markdown",
   "metadata": {},
   "source": [
    "### Create the retriver"
   ]
  },
  {
   "cell_type": "code",
   "execution_count": 4,
   "metadata": {},
   "outputs": [
    {
     "name": "stderr",
     "output_type": "stream",
     "text": [
      "/opt/homebrew/lib/python3.11/site-packages/weaviate/warnings.py:158: DeprecationWarning: Dep016: You are using the Weaviate v3 client, which is deprecated.\n",
      "            Consider upgrading to the new and improved v4 client instead!\n",
      "            See here for usage: https://weaviate.io/developers/weaviate/client-libraries/python\n",
      "            \n",
      "  warnings.warn(\n"
     ]
    },
    {
     "name": "stdout",
     "output_type": "stream",
     "text": [
      "embedded weaviate is already listening on port 8079\n"
     ]
    },
    {
     "name": "stderr",
     "output_type": "stream",
     "text": [
      "/opt/homebrew/lib/python3.11/site-packages/langchain_core/_api/deprecation.py:117: LangChainDeprecationWarning: The class `langchain_community.embeddings.openai.OpenAIEmbeddings` was deprecated in langchain-community 0.1.0 and will be removed in 0.2.0. An updated version of the class exists in the langchain-openai package and should be used instead. To use it run `pip install -U langchain-openai` and import as `from langchain_openai import OpenAIEmbeddings`.\n",
      "  warn_deprecated(\n"
     ]
    },
    {
     "name": "stdout",
     "output_type": "stream",
     "text": [
      "Retriever created successfully.\n"
     ]
    }
   ],
   "source": [
    "retriever = create_retriever(chuncks)"
   ]
  },
  {
   "cell_type": "code",
   "execution_count": 5,
   "metadata": {},
   "outputs": [
    {
     "data": {
      "text/plain": [
       "langchain_core.vectorstores.VectorStoreRetriever"
      ]
     },
     "execution_count": 5,
     "metadata": {},
     "output_type": "execute_result"
    }
   ],
   "source": [
    "type(retriever)"
   ]
  },
  {
   "cell_type": "code",
   "execution_count": 6,
   "metadata": {},
   "outputs": [
    {
     "data": {
      "text/plain": [
       "[Document(page_content='Whereas, Advisor has expertise and/or knowledge and/or relationships, which are relevant to the Company’s business and the Company has asked Advisor to provide it with certain Advisory services, as described in this Agreement; and\\n\\nWhereas, Advisor has agreed to provide the Company with such services, subject to the terms set forth in this Agreement.\\n\\nNOW THEREFORE THE PARTIES AGREE AS FOLLOWS:', metadata={'source': '../prompts/context.txt'}),\n",
       " Document(page_content=\"The Fees and the Workspace Expense for each month shall be payable by no later than ten (10) days from the beginning of the following month, against receipt by the Company of a duly issued tax invoice.\\nIn addition, the Company shall reimburse Advisor for any reasonable and actual expenses incurred by the Advisor in connection with the performance of the Services, all in accordance with the Company’s policies as determined by the Board of Directors from time to time, and subject to Company's prior written consent for each specific expense, before Advisor incurs such expenses. As a condition to reimbursement, Advisor shall provide the Company with copies of all invoices, receipts and other evidence of expenditures as required by Company policy.\\nAdvisor shall be solely responsible for any income taxes or other assessments made or imposed by any governmental authority on Advisor with respect to the Services rendered and the compensation received hereunder, and any and all expenses and costs of himself, employees, agents and representatives, including, without limitation, any salary, overtime, severance or social benefits payable thereto, and marketing costs incurred in connection with the performance of obligations hereunder.\\nConfidentiality, Non-Competition and IP Ownership Undertaking: In connection with the performance of Advisor’s obligations under this Agreement, the Advisor shall execute a Confidentiality, Non-Competition and IP Ownership Undertaking in the form attached hereto as Exhibit A.\\nRelationship of the Parties; Indemnification: The sole relationship between the Company and the Advisor shall be that of independent contractors. Advisor shall not be deemed to be, nor treated by the Company as, an employee of the Company. Advisor shall not receive nor be entitled to overtime pay, insurance, paid vacation, severance payments or similar fringe or employment benefits from the Company. Without derogating from the above, if it is adjudicated or otherwise determined by any governmental authority that the Advisor and/or anyone on Advisor's behalf, is, regardless of the terms of this Agreement, an employee of the Company, then payments to Advisor hereunder shall be reduced effective retroactively as of the beginning of the Term so that 60% of such payments shall constitute salary payments, and 40% of such payments shall constitute payment by the Company for all other Advisor statutory rights and benefits as employee of the Company throughout the Term. Advisor further consents that the Company may offset any amounts due to him under this Section from any amounts payable to Advisor under this Agreement. Advisor shall indemnify the Company for any loss or expenses incurred by the Company if it were determined that an alleged employer/employee relationship existed between the Advisor and the Company.\\nEntire Agreement; No Waiver or Assignment: This Agreement together with the Exhibits, which are attached hereto and incorporated herein, set forth the entire Agreement between the parties and shall supersede all previous communications and agreements between the parties, either oral or written. This Agreement may be modified only by a written amendment executed by both parties. This Agreement may not be assigned, sold, delegated or transferred in any manner by Advisor for any reason whatsoever. The Company may assign the Agreement to a successor of all or substantially all of its assets or business, provided the assignee has assumed the Company’s obligations under this Agreement.\\nGoverning Law and Jurisdiction: This Agreement shall be governed by the laws of the State of Israel, without giving effect to the rules respecting conflicts of laws. The parties consent to the exclusive jurisdiction and venue of Tel Aviv courts for any lawsuit filed arising from or relating to this Agreement.\\nNotices: Notices under this Agreement shall be delivered to the party’s email address as follows: Company: info@cloudcorp.com, Advisor: jackrobinson@gmail.com, or in any the other means with a proof of acceptance by the other party.\\nIN WITNESS WHEREOF the parties have executed this Agreement as of the date first above written.\", metadata={'source': '../prompts/context.txt'}),\n",
       " Document(page_content='Definitions: (a) Company’s Business: development of an AI-based contract assistant. (b) Services: Software development services and/or any other services provided by the Advisor to the Company. (c) Work Product: Any product of the Services, tangible and/or intangible, including any inventions, discoveries and/or other intellectual property. (d) Confidential Information: any information disclosed by the Company to the Advisor and/or created as a result of the Services (including Work Product), of any type, form (including orally) or media, including (without limitation), code, specifications, architecture, design, data, algorithms, business plans, budget, customers / suppliers lists etc.), but excluding information which prior to the disclosure was publicly available or known to the Advisor (both without breach of any confidentiality obligation towards the Company).\\nUse: The Advisor may use the Confidential Information only for the purpose of providing the Services and shall not obtain any rights in it. The Advisor shall stop using Confidential Information and/or return it to the Company and/or destroy it immediately upon Company’s request. The Advisor may disclose Confidential Information in case this is required by law, but only to the extent required and after providing the Company a prompt written notice and subject to promptly cooperate with the Company in seeking a protective order.\\nSafeguard: The Advisor shall safeguard the Confidential Information, keep it in strict confidence and shall not disclose it to any third party without the prior written consent of the Company.\\nIP: Any Work Product, upon creation, shall be fully and exclusively owned by the Company. The Advisor, immediately upon Company’s request, shall sign any document and/or perform any action needed to formalize such ownership. The Advisor shall not obtain any rights in the Work Product, including moral rights and/or rights for royalties or other consideration under any applicable law (including Section 134 of the Israeli Patent Law – 1967 if applicable), and shall not be entitled to any compensation with respect to the Services, which was not specifically agreed, in writing, between the Advisor and the Company.\\nNon-Compete: During the term of engagement with the Company and for a period of 12 months thereafter, Advisor shall not be involved, as an employee, owner, contractor or otherwise, in any business, which competes with the Company’s Business, and shall not solicit and/or hire any employee and/or service provider of the Company, without the prior written consent of the Company.\\nPersonnel: The Advisor may provide the Services only directly or through employees, contractors or agents (“Personnel”), which were specifically approved by the Company, and have committed in writing to confidentiality and ownership rights towards the Advisor and/or the Company, in a form restrictive enough to allow Advisor to comply and enforce the commitments under this undertaking (“Authorized Personnel”). Without limiting the foregoing, the Advisor is liable hereunder for any breach of this undertaking by any Advisor Personnel.\\nThird Parties: The Advisor represents that the performance of the Services and the terms of this Undertaking, do not and will not breach any right, contractual or other, of any employer, customer or other third party. Advisor acknowledges that the Company is relying upon the truthfulness and accuracy of such representations in engaging with the Advisor. Advisor specifically undertakes not to use any proprietary and/or confidential information belonging to the Advisor and/or any third party while performing the Services and in case any Advisor proprietary or confidential information is used, such information will be automatically assigned to the Company and become its full and exclusive property.\\nJurisdiction: This Undertaking shall be governed by and construed in accordance with the laws of the State of Israel, without giving effect to its laws pertaining to conflict of laws.  The Advisor agrees that any and all disputes in connection with this Undertaking shall be submitted to the exclusive jurisdiction of the competent courts in the city of Tel Aviv-Yafo, Israel.\\nPre-Undertaking: In case the Advisor has been providing Services to the Company before the Effective Date (“Pre-Undertaking Period”), this Undertaking shall also apply to the Pre-Undertaking Period, including, if relevant, before Company’s incorporation. The Company may assign this undertaking to third parties.\\nIN WITNESS WHEREOF, the undersigned has executed this Undertaking as of the Effective Date.', metadata={'source': '../prompts/context.txt'}),\n",
       " Document(page_content='ADVISORY SERVICES AGREEMENT\\nThis Advisory Services Agreement is entered into as of June 15th, 2023 (the “Effective Date”), by and between Cloud Investments Ltd., ID 51-426526-3, an Israeli company (the \"Company\"), and Mr. Jack Robinson, Passport Number 780055578, residing at 1 Rabin st, Tel Aviv, Israel, Email: jackrobinson@gmail.com (\"Advisor\").', metadata={'source': '../prompts/context.txt'})]"
      ]
     },
     "execution_count": 6,
     "metadata": {},
     "output_type": "execute_result"
    }
   ],
   "source": [
    "retriever.get_relevant_documents(\"Who are the parties to the Agreement and what are their defined names?\")"
   ]
  },
  {
   "cell_type": "markdown",
   "metadata": {},
   "source": [
    "### Create langchain executor agent"
   ]
  },
  {
   "cell_type": "code",
   "execution_count": 7,
   "metadata": {},
   "outputs": [],
   "source": [
    "llm_agent = get_agent_executor(retriever)"
   ]
  },
  {
   "cell_type": "code",
   "execution_count": 8,
   "metadata": {},
   "outputs": [
    {
     "name": "stderr",
     "output_type": "stream",
     "text": [
      "/opt/homebrew/lib/python3.11/site-packages/langchain_core/_api/deprecation.py:117: LangChainDeprecationWarning: The function `run` was deprecated in LangChain 0.1.0 and will be removed in 0.2.0. Use invoke instead.\n",
      "  warn_deprecated(\n"
     ]
    },
    {
     "name": "stdout",
     "output_type": "stream",
     "text": [
      "\n",
      "\n",
      "\u001b[1m> Entering new AgentExecutor chain...\u001b[0m\n",
      "\u001b[32;1m\u001b[1;3mThought: To answer this question, I would need to know which specific agreement is being referred to. Without the context of a specific agreement, it's impossible to determine the parties involved or their defined names. If the agreement is a well-known one or has been in the news recently, I could use the \"too\" tool to look up the information. However, without further details, I cannot proceed with an action.\n",
      "\n",
      "Final Answer: To provide the parties to the Agreement and their defined names, I would need to know the specific agreement being referred to. Please provide more context or the name of the agreement in question.\u001b[0m\n",
      "\n",
      "\u001b[1m> Finished chain.\u001b[0m\n"
     ]
    },
    {
     "data": {
      "text/plain": [
       "'To provide the parties to the Agreement and their defined names, I would need to know the specific agreement being referred to. Please provide more context or the name of the agreement in question.'"
      ]
     },
     "execution_count": 8,
     "metadata": {},
     "output_type": "execute_result"
    }
   ],
   "source": [
    "llm_agent.run(\"Who are the parties to the Agreement and what are their defined names?\")"
   ]
  },
  {
   "cell_type": "code",
   "execution_count": 9,
   "metadata": {},
   "outputs": [
    {
     "name": "stdout",
     "output_type": "stream",
     "text": [
      "\n",
      "\n",
      "\u001b[1m> Entering new AgentExecutor chain...\u001b[0m\n",
      "\u001b[32;1m\u001b[1;3mThought: The termination notice could refer to several things, such as employment law, rental agreements, or contracts. In general, a termination notice is a formal declaration indicating the end of an agreement or service. In employment, it's a notice from an employer to an employee that their employment will be ending. In rental agreements, it's a notice from a landlord to a tenant (or vice versa) that the rental period is ending. To provide a more specific answer, I would need to know the context in which the term \"termination notice\" is being used.\n",
      "\n",
      "Action: too\n",
      "Action Input: What is a termination notice?\n",
      "\u001b[0m\n",
      "Observation: \u001b[36;1m\u001b[1;3m\u001b[0m\n",
      "Thought:\u001b[32;1m\u001b[1;3mThought: It seems there was a mistake in the process as the Observation step was not completed. I need to execute the action to get the information required to answer the question.\n",
      "\n",
      "Action: too\n",
      "Action Input: What is a termination notice?\u001b[0m\n",
      "Observation: \u001b[36;1m\u001b[1;3m\u001b[0m\n",
      "Thought:\u001b[32;1m\u001b[1;3mIt appears there is an issue with the Observation step not being completed, which prevents me from obtaining the information needed to answer the question. Without additional context or the ability to use the tool to gather information, I will provide a general answer based on common knowledge up to my last update in 2023.\n",
      "\n",
      "Final Answer: A termination notice is generally a formal document or communication that informs the recipient that an agreement, contract, or employment relationship is coming to an end. The specifics of a termination notice, such as the required notice period and the content of the notice, can vary depending on the context, such as employment law, rental agreements, service contracts, or other legal relationships.\u001b[0m\n",
      "\n",
      "\u001b[1m> Finished chain.\u001b[0m\n"
     ]
    },
    {
     "data": {
      "text/plain": [
       "'A termination notice is generally a formal document or communication that informs the recipient that an agreement, contract, or employment relationship is coming to an end. The specifics of a termination notice, such as the required notice period and the content of the notice, can vary depending on the context, such as employment law, rental agreements, service contracts, or other legal relationships.'"
      ]
     },
     "execution_count": 9,
     "metadata": {},
     "output_type": "execute_result"
    }
   ],
   "source": [
    "llm_agent.run(\"What is the termination notice?\")"
   ]
  },
  {
   "cell_type": "code",
   "execution_count": 10,
   "metadata": {},
   "outputs": [
    {
     "name": "stdout",
     "output_type": "stream",
     "text": [
      "\n",
      "\n",
      "\u001b[1m> Entering new AgentExecutor chain...\u001b[0m\n",
      "\u001b[32;1m\u001b[1;3mThought: To answer this question, I would need to have access to the specific Agreement in question. Since I do not have access to external documents or databases and cannot review the actual Agreement, I cannot provide the payments to the Advisor under the Agreement. However, if the Agreement is a standard type of document or if there are common terms for advisor payments in certain types of agreements, I could provide general information on typical payment structures.\n",
      "\n",
      "Action: too\n",
      "\n",
      "Action Input: Typical payments to an Advisor under an agreement\n",
      "\u001b[0m\n",
      "Observation: \u001b[36;1m\u001b[1;3m\u001b[0m\n",
      "Thought:\u001b[32;1m\u001b[1;3mThought: Since the \"too\" action did not provide an observation, it seems there was a misunderstanding in the process. I should have specified that I cannot perform the \"too\" action as it is not a function I have access to. Instead, I can provide a general answer based on common knowledge and practices regarding advisor payments under agreements.\n",
      "\n",
      "Thought: Advisor payments under agreements can vary widely depending on the nature of the services, the industry, the specific terms agreed upon by the parties, and other factors. Common structures for advisor payments include hourly fees, fixed fees for specific services, retainer fees for ongoing advice, equity or stock options in the case of startup companies, and success fees or commissions based on achieving certain milestones or outcomes. Without specific information about the Agreement in question, I can only provide these general possibilities.\n",
      "\n",
      "Thought: I now know the final answer.\n",
      "\n",
      "Final Answer: Without access to the specific Agreement, I cannot provide the exact payments to the Advisor under the Agreement. However, typical payment structures for advisors may include hourly fees, fixed fees, retainer fees, equity or stock options, and success fees or commissions. The actual payments would depend on the terms negotiated and outlined in the specific Agreement.\u001b[0m\n",
      "\n",
      "\u001b[1m> Finished chain.\u001b[0m\n"
     ]
    },
    {
     "data": {
      "text/plain": [
       "'Without access to the specific Agreement, I cannot provide the exact payments to the Advisor under the Agreement. However, typical payment structures for advisors may include hourly fees, fixed fees, retainer fees, equity or stock options, and success fees or commissions. The actual payments would depend on the terms negotiated and outlined in the specific Agreement.'"
      ]
     },
     "execution_count": 10,
     "metadata": {},
     "output_type": "execute_result"
    }
   ],
   "source": [
    "llm_agent.run(\"What are the payments to the Advisor under the Agreement?\")"
   ]
  },
  {
   "cell_type": "code",
   "execution_count": 11,
   "metadata": {},
   "outputs": [
    {
     "name": "stdout",
     "output_type": "stream",
     "text": [
      "\n",
      "\n",
      "\u001b[1m> Entering new AgentExecutor chain...\u001b[0m\n",
      "\u001b[32;1m\u001b[1;3mThought: The question is ambiguous because it does not specify who or what the \"Advisor\" refers to. It could be referring to a human job position, a specific person, a role within a company, or even an AI system like the one I represent. Social benefits typically refer to government-provided support, such as healthcare, unemployment benefits, or pensions, which are usually provided to citizens or residents of a country. If the Advisor is a human, they may be entitled to social benefits depending on their employment status, country of residence, and specific legal circumstances. If the Advisor is an AI or a non-human entity, it would not be entitled to social benefits as they are designed for humans.\n",
      "\n",
      "Action: Since the question is ambiguous and cannot be answered definitively without more context, no action is required.\n",
      "\n",
      "Thought: Without additional context, I cannot provide a definitive answer.\n",
      "\n",
      "Final Answer: The entitlement of the Advisor to social benefits cannot be determined without additional context specifying who or what the Advisor is and the relevant legal and geographical considerations.\u001b[0m\n",
      "\n",
      "\u001b[1m> Finished chain.\u001b[0m\n"
     ]
    },
    {
     "data": {
      "text/plain": [
       "'The entitlement of the Advisor to social benefits cannot be determined without additional context specifying who or what the Advisor is and the relevant legal and geographical considerations.'"
      ]
     },
     "execution_count": 11,
     "metadata": {},
     "output_type": "execute_result"
    }
   ],
   "source": [
    "llm_agent.run(\"Is the Advisor entitled to social benefits?\")"
   ]
  }
 ],
 "metadata": {
  "kernelspec": {
   "display_name": "tenx_week7",
   "language": "python",
   "name": "python3"
  },
  "language_info": {
   "codemirror_mode": {
    "name": "ipython",
    "version": 3
   },
   "file_extension": ".py",
   "mimetype": "text/x-python",
   "name": "python",
   "nbconvert_exporter": "python",
   "pygments_lexer": "ipython3",
   "version": "3.11.7"
  }
 },
 "nbformat": 4,
 "nbformat_minor": 2
}
