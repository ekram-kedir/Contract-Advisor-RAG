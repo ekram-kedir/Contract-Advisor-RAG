{
 "cells": [
  {
   "cell_type": "code",
   "execution_count": 23,
   "metadata": {},
   "outputs": [],
   "source": [
    "from langchain.retrievers import ContextualCompressionRetriever, CohereRagRetriever\n",
    "from langchain.retrievers.document_compressors import CohereRerank\n",
    "from langchain_community.embeddings import CohereEmbeddings\n",
    "from langchain_community.chat_models import ChatCohere\n",
    "from langchain.text_splitter import CharacterTextSplitter\n",
    "from langchain_community.document_loaders import TextLoader\n",
    "from langchain_community.vectorstores import Chroma\n",
    "import os"
   ]
  },
  {
   "cell_type": "code",
   "execution_count": 11,
   "metadata": {},
   "outputs": [],
   "source": [
    "user_query = \"Can the Agreement or any of its obligations be assigned?\"\n",
    "# Create cohere's chat model and embeddings objects\n",
    "COHERE_API_KEY=os.environ.get(\"COHERE_API_KEY\")\n",
    "cohere_chat_model = ChatCohere(cohere_api_key=COHERE_API_KEY)\n",
    "cohere_embeddings = CohereEmbeddings(cohere_api_key=COHERE_API_KEY)"
   ]
  },
  {
   "cell_type": "code",
   "execution_count": 14,
   "metadata": {},
   "outputs": [
    {
     "name": "stderr",
     "output_type": "stream",
     "text": [
      "Created a chunk of size 3416, which is longer than the specified 1000\n",
      "Created a chunk of size 4175, which is longer than the specified 1000\n",
      "Created a chunk of size 4624, which is longer than the specified 1000\n"
     ]
    }
   ],
   "source": [
    "raw_documents = TextLoader('./../prompts/context.txt').load()\n",
    "text_splitter = CharacterTextSplitter(chunk_size=1000, chunk_overlap=0)\n",
    "documents = text_splitter.split_documents(raw_documents)"
   ]
  },
  {
   "cell_type": "code",
   "execution_count": 15,
   "metadata": {},
   "outputs": [],
   "source": [
    "db = Chroma.from_documents(documents, cohere_embeddings)"
   ]
  },
  {
   "cell_type": "code",
   "execution_count": 16,
   "metadata": {},
   "outputs": [
    {
     "name": "stdout",
     "output_type": "stream",
     "text": [
      "[Document(page_content=\"The Fees and the Workspace Expense for each month shall be payable by no later than ten (10) days from the beginning of the following month, against receipt by the Company of a duly issued tax invoice.\\nIn addition, the Company shall reimburse Advisor for any reasonable and actual expenses incurred by the Advisor in connection with the performance of the Services, all in accordance with the Company’s policies as determined by the Board of Directors from time to time, and subject to Company's prior written consent for each specific expense, before Advisor incurs such expenses. As a condition to reimbursement, Advisor shall provide the Company with copies of all invoices, receipts and other evidence of expenditures as required by Company policy.\\nAdvisor shall be solely responsible for any income taxes or other assessments made or imposed by any governmental authority on Advisor with respect to the Services rendered and the compensation received hereunder, and any and all expenses and costs of himself, employees, agents and representatives, including, without limitation, any salary, overtime, severance or social benefits payable thereto, and marketing costs incurred in connection with the performance of obligations hereunder.\\nConfidentiality, Non-Competition and IP Ownership Undertaking: In connection with the performance of Advisor’s obligations under this Agreement, the Advisor shall execute a Confidentiality, Non-Competition and IP Ownership Undertaking in the form attached hereto as Exhibit A.\\nRelationship of the Parties; Indemnification: The sole relationship between the Company and the Advisor shall be that of independent contractors. Advisor shall not be deemed to be, nor treated by the Company as, an employee of the Company. Advisor shall not receive nor be entitled to overtime pay, insurance, paid vacation, severance payments or similar fringe or employment benefits from the Company. Without derogating from the above, if it is adjudicated or otherwise determined by any governmental authority that the Advisor and/or anyone on Advisor's behalf, is, regardless of the terms of this Agreement, an employee of the Company, then payments to Advisor hereunder shall be reduced effective retroactively as of the beginning of the Term so that 60% of such payments shall constitute salary payments, and 40% of such payments shall constitute payment by the Company for all other Advisor statutory rights and benefits as employee of the Company throughout the Term. Advisor further consents that the Company may offset any amounts due to him under this Section from any amounts payable to Advisor under this Agreement. Advisor shall indemnify the Company for any loss or expenses incurred by the Company if it were determined that an alleged employer/employee relationship existed between the Advisor and the Company.\\nEntire Agreement; No Waiver or Assignment: This Agreement together with the Exhibits, which are attached hereto and incorporated herein, set forth the entire Agreement between the parties and shall supersede all previous communications and agreements between the parties, either oral or written. This Agreement may be modified only by a written amendment executed by both parties. This Agreement may not be assigned, sold, delegated or transferred in any manner by Advisor for any reason whatsoever. The Company may assign the Agreement to a successor of all or substantially all of its assets or business, provided the assignee has assumed the Company’s obligations under this Agreement.\\nGoverning Law and Jurisdiction: This Agreement shall be governed by the laws of the State of Israel, without giving effect to the rules respecting conflicts of laws. The parties consent to the exclusive jurisdiction and venue of Tel Aviv courts for any lawsuit filed arising from or relating to this Agreement.\\nNotices: Notices under this Agreement shall be delivered to the party’s email address as follows: Company: info@cloudcorp.com, Advisor: jackrobinson@gmail.com, or in any the other means with a proof of acceptance by the other party.\\nIN WITNESS WHEREOF the parties have executed this Agreement as of the date first above written.\", metadata={'source': './../prompts/context.txt', 'relevance_score': 0.96989965}), Document(page_content='In performing the Services, Advisor shall devote his time, know-how, expertise, talent, experience and best efforts and attention to the provision of the Services, as shall be reasonably required by the Company. Advisor shall render the Services in a diligent manner and at a high professional standard for the benefit of the Company and shall perform and discharge well and faithfully, with devotion, honesty and fidelity, his obligations hereunder.\\nAdvisor further agrees and undertakes to (i) comply with all the Company\\'s policies, procedures and objectives, as in effect from time to time; (ii) adhere to any applicable law or provision, pertaining to his services; (iii) not take any action with the intention that the same will cause material damage to the good name of the Company; (iv) keep the contents of this Agreement confidential and not to disclose the existence or contents of this Agreement to any third party without the prior written consent of the Company.\\nTime Tracking: Advisor shall provide the Company with a written report, in a format acceptable by the Company, setting forth the number of hours in which he provided the Services, on a daily basis, as well as an aggregated monthly report at the last day of each calendar month.\\nNo Conflicts: Advisor represents that there is no contractual or other legal restriction preventing or limiting him/her from entering into this Agreement or performing any of his/her obligations hereunder. Advisor shall immediately and without delay inform the Company of any affairs and/or matters that might constitute a conflict of interest with his/her services to Company and/or the interests of the Company. Advisor agrees to indemnify, defend and hold harmless the Company and its directors, officers and employees against all claims, liabilities, and costs, including reasonable attorneys\\' fees in connection with any breach by Advisor, of any obligations pursuant to a prior or existing engagement with any other third party, including without limitation other employers or clients.\\nTerm: The term of this Agreement shall commence on the Effective Date and shall continue until terminated in accordance with the provisions herein (the \"Term\").\\nTermination: Either party, at any given time, may terminate this Agreement, for any reason whatsoever, with or without cause, upon fourteen (14) days’ prior written notice. Notwithstanding the above, the Company may terminate this Agreement immediately and without prior notice if Advisor refuses or is unable to perform the Services, or is in breach of any provision of this Agreement.\\nCompensation:\\nAs full and sole consideration for the Services, and subject to the performance of the Services, the Company shall pay the Advisor, against an invoice provided to the Company by Advisor, hourly fees at a rate of USD 9 (nine) per Billable Hour as defined below, limited to a maximum of USD 1,500 per month (the \"Fees\"). In addition, the Company shall pay the advisor USD 100 per month to finance a workspace for the Advisor, as long as the Advisor actually hires a professional workspace (the “Workspace Expense”). Advisor will not be entitled to any additional fees or expense reimbursement whatsoever, except as expressly provided for in this Agreement.\\nBillable Hour: Net time devoted to the provisioning of the Services, without calculating meals, travels or any other overhead time borne by the Advisor.', metadata={'source': './../prompts/context.txt', 'relevance_score': 0.7728737}), Document(page_content='Services:\\nAdvisor shall provide to the Company, as an independent contractor, software development services, and / or any other services as agreed by the parties from time to time (the “Services”). Advisor shall not appoint any sub-agents or delegates in connection with performance of the Services, nor assign any of his obligations or rights hereunder without obtaining the prior written consent of the Company.\\nWithout derogating from the foregoing, the Advisor shall not be required to provide the Services for a period of eighteen (18) days in each 12-month period.', metadata={'source': './../prompts/context.txt', 'relevance_score': 0.772359})]\n"
     ]
    }
   ],
   "source": [
    "cohere_rerank = CohereRerank(cohere_api_key=COHERE_API_KEY)\n",
    "compression_retriever = ContextualCompressionRetriever(\n",
    "    base_compressor=cohere_rerank, \n",
    "    base_retriever=db.as_retriever()\n",
    ")\n",
    "compressed_docs = compression_retriever.get_relevant_documents(user_query)\n",
    "# Print the relevant documents from using the embeddings and reranker\n",
    "print(compressed_docs)"
   ]
  },
  {
   "cell_type": "code",
   "execution_count": 17,
   "metadata": {},
   "outputs": [],
   "source": [
    "rag = CohereRagRetriever(llm=cohere_chat_model)\n",
    "\n",
    "docs = rag.get_relevant_documents(\n",
    "    user_query,\n",
    "    source_documents=compressed_docs,\n",
    ")"
   ]
  },
  {
   "cell_type": "code",
   "execution_count": 18,
   "metadata": {},
   "outputs": [
    {
     "name": "stdout",
     "output_type": "stream",
     "text": [
      "{'id': 'doc-0', 'snippet': \"The Fees and the Workspace Expense for each month shall be payable by no later than ten (10) days from the beginning of the following month, against receipt by the Company of a duly issued tax invoice.\\nIn addition, the Company shall reimburse Advisor for any reasonable and actual expenses incurred by the Advisor in connection with the performance of the Services, all in accordance with the Company’s policies as determined by the Board of Directors from time to time, and subject to Company's prior written consent for each specific expense, before Advisor incurs such expenses. As a condition to reimbursement, Advisor shall provide the Company with copies of all invoices, receipts and other evidence of expenditures as required by Company policy.\\nAdvisor shall be solely responsible for any income taxes or other assessments made or imposed by any governmental authority on Advisor with respect to the Services rendered and the compensation received hereunder, and any and all expenses and costs of himself, employees, agents and representatives, including, without limitation, any salary, overtime, severance or social benefits payable thereto, and marketing costs incurred in connection with the performance of obligations hereunder.\\nConfidentiality, Non-Competition and IP Ownership Undertaking: In connection with the performance of Advisor’s obligations under this Agreement, the Advisor shall execute a Confidentiality, Non-Competition and IP Ownership Undertaking in the form attached hereto as Exhibit A.\\nRelationship of the Parties; Indemnification: The sole relationship between the Company and the Advisor shall be that of independent contractors. Advisor shall not be deemed to be, nor treated by the Company as, an employee of the Company. Advisor shall not receive nor be entitled to overtime pay, insurance, paid vacation, severance payments or similar fringe or employment benefits from the Company. Without derogating from the above, if it is adjudicated or otherwise determined by any governmental authority that the Advisor and/or anyone on Advisor's behalf, is, regardless of the terms of this Agreement, an employee of the Company, then payments to Advisor hereunder shall be reduced effective retroactively as of the beginning of the Term so that 60% of such payments shall constitute salary payments, and 40% of such payments shall constitute payment by the Company for all other Advisor statutory rights and benefits as employee of the Company throughout the Term. Advisor further consents that the Company may offset any amounts due to him under this Section from any amounts payable to Advisor under this Agreement. Advisor shall indemnify the Company for any loss or expenses incurred by the Company if it were determined that an alleged employer/employee relationship existed between the Advisor and the Company.\\nEntire Agreement; No Waiver or Assignment: This Agreement together with the Exhibits, which are attached hereto and incorporated herein, set forth the entire Agreement between the parties and shall supersede all previous communications and agreements between the parties, either oral or written. This Agreement may be modified only by a written amendment executed by both parties. This Agreement may not be assigned, sold, delegated or transferred in any manner by Advisor for any reason whatsoever. The Company may assign the Agreement to a successor of all or substantially all of its assets or business, provided the assignee has assumed the Company’s obligations under this Agreement.\\nGoverning Law and Jurisdiction: This Agreement shall be governed by the laws of the State of Israel, without giving effect to the rules respecting conflicts of laws. The parties consent to the exclusive jurisdiction and venue of Tel Aviv courts for any lawsuit filed arising from or relating to this Agreement.\\nNotices: Notices under this Agreement shall be delivered to the party’s email address as follows: Company: info@cloudcorp.com, Advisor: jackrobinson@gmail.com, or in any the other means with a proof of acceptance by the other party.\\nIN WITNESS WHEREOF the parties have executed this Agreement as of the date first above written.\"}\n",
      "\n",
      "\n",
      "The Fees and the Workspace Expense for each month shall be payable by no later than ten (10) days from the beginning of the following month, against receipt by the Company of a duly issued tax invoice.\n",
      "In addition, the Company shall reimburse Advisor for any reasonable and actual expenses incurred by the Advisor in connection with the performance of the Services, all in accordance with the Company’s policies as determined by the Board of Directors from time to time, and subject to Company's prior written consent for each specific expense, before Advisor incurs such expenses. As a condition to reimbursement, Advisor shall provide the Company with copies of all invoices, receipts and other evidence of expenditures as required by Company policy.\n",
      "Advisor shall be solely responsible for any income taxes or other assessments made or imposed by any governmental authority on Advisor with respect to the Services rendered and the compensation received hereunder, and any and all expenses and costs of himself, employees, agents and representatives, including, without limitation, any salary, overtime, severance or social benefits payable thereto, and marketing costs incurred in connection with the performance of obligations hereunder.\n",
      "Confidentiality, Non-Competition and IP Ownership Undertaking: In connection with the performance of Advisor’s obligations under this Agreement, the Advisor shall execute a Confidentiality, Non-Competition and IP Ownership Undertaking in the form attached hereto as Exhibit A.\n",
      "Relationship of the Parties; Indemnification: The sole relationship between the Company and the Advisor shall be that of independent contractors. Advisor shall not be deemed to be, nor treated by the Company as, an employee of the Company. Advisor shall not receive nor be entitled to overtime pay, insurance, paid vacation, severance payments or similar fringe or employment benefits from the Company. Without derogating from the above, if it is adjudicated or otherwise determined by any governmental authority that the Advisor and/or anyone on Advisor's behalf, is, regardless of the terms of this Agreement, an employee of the Company, then payments to Advisor hereunder shall be reduced effective retroactively as of the beginning of the Term so that 60% of such payments shall constitute salary payments, and 40% of such payments shall constitute payment by the Company for all other Advisor statutory rights and benefits as employee of the Company throughout the Term. Advisor further consents that the Company may offset any amounts due to him under this Section from any amounts payable to Advisor under this Agreement. Advisor shall indemnify the Company for any loss or expenses incurred by the Company if it were determined that an alleged employer/employee relationship existed between the Advisor and the Company.\n",
      "Entire Agreement; No Waiver or Assignment: This Agreement together with the Exhibits, which are attached hereto and incorporated herein, set forth the entire Agreement between the parties and shall supersede all previous communications and agreements between the parties, either oral or written. This Agreement may be modified only by a written amendment executed by both parties. This Agreement may not be assigned, sold, delegated or transferred in any manner by Advisor for any reason whatsoever. The Company may assign the Agreement to a successor of all or substantially all of its assets or business, provided the assignee has assumed the Company’s obligations under this Agreement.\n",
      "Governing Law and Jurisdiction: This Agreement shall be governed by the laws of the State of Israel, without giving effect to the rules respecting conflicts of laws. The parties consent to the exclusive jurisdiction and venue of Tel Aviv courts for any lawsuit filed arising from or relating to this Agreement.\n",
      "Notices: Notices under this Agreement shall be delivered to the party’s email address as follows: Company: info@cloudcorp.com, Advisor: jackrobinson@gmail.com, or in any the other means with a proof of acceptance by the other party.\n",
      "IN WITNESS WHEREOF the parties have executed this Agreement as of the date first above written.\n",
      "\n",
      "\n",
      "------------------------------\n",
      "\n",
      "\n"
     ]
    }
   ],
   "source": [
    "# Print the documents\n",
    "for doc in docs[:-1]:\n",
    "    print(doc.metadata)\n",
    "    print(\"\\n\\n\" + doc.page_content)\n",
    "    print(\"\\n\\n\" + \"-\" * 30 + \"\\n\\n\")"
   ]
  },
  {
   "cell_type": "code",
   "execution_count": 19,
   "metadata": {},
   "outputs": [
    {
     "name": "stdout",
     "output_type": "stream",
     "text": [
      "The Agreement may not be assigned by Advisor for any reason whatsoever.\n",
      "However, the Company may assign the Agreement to a successor of all or substantially all of its assets or business, provided the assignee has assumed the Company’s obligations under this Agreement.\n",
      "[{'start': 45, 'end': 71, 'text': 'for any reason whatsoever.', 'document_ids': ['doc-0']}, {'start': 123, 'end': 186, 'text': 'successor of all or substantially all of its assets or business', 'document_ids': ['doc-0']}]\n"
     ]
    }
   ],
   "source": [
    "# Print the final generation \n",
    "answer = docs[-1].page_content\n",
    "print(answer)\n",
    "# Print the final citations \n",
    "citations = docs[-1].metadata['citations']\n",
    "print(citations)"
   ]
  },
  {
   "cell_type": "code",
   "execution_count": 20,
   "metadata": {},
   "outputs": [
    {
     "data": {
      "text/plain": [
       "[Document(page_content='Services:\\nAdvisor shall provide to the Company, as an independent contractor, software development services, and / or any other services as agreed by the parties from time to time (the “Services”). Advisor shall not appoint any sub-agents or delegates in connection with performance of the Services, nor assign any of his obligations or rights hereunder without obtaining the prior written consent of the Company.\\nWithout derogating from the foregoing, the Advisor shall not be required to provide the Services for a period of eighteen (18) days in each 12-month period.', metadata={'source': './../prompts/context.txt'}),\n",
       " Document(page_content=\"The Fees and the Workspace Expense for each month shall be payable by no later than ten (10) days from the beginning of the following month, against receipt by the Company of a duly issued tax invoice.\\nIn addition, the Company shall reimburse Advisor for any reasonable and actual expenses incurred by the Advisor in connection with the performance of the Services, all in accordance with the Company’s policies as determined by the Board of Directors from time to time, and subject to Company's prior written consent for each specific expense, before Advisor incurs such expenses. As a condition to reimbursement, Advisor shall provide the Company with copies of all invoices, receipts and other evidence of expenditures as required by Company policy.\\nAdvisor shall be solely responsible for any income taxes or other assessments made or imposed by any governmental authority on Advisor with respect to the Services rendered and the compensation received hereunder, and any and all expenses and costs of himself, employees, agents and representatives, including, without limitation, any salary, overtime, severance or social benefits payable thereto, and marketing costs incurred in connection with the performance of obligations hereunder.\\nConfidentiality, Non-Competition and IP Ownership Undertaking: In connection with the performance of Advisor’s obligations under this Agreement, the Advisor shall execute a Confidentiality, Non-Competition and IP Ownership Undertaking in the form attached hereto as Exhibit A.\\nRelationship of the Parties; Indemnification: The sole relationship between the Company and the Advisor shall be that of independent contractors. Advisor shall not be deemed to be, nor treated by the Company as, an employee of the Company. Advisor shall not receive nor be entitled to overtime pay, insurance, paid vacation, severance payments or similar fringe or employment benefits from the Company. Without derogating from the above, if it is adjudicated or otherwise determined by any governmental authority that the Advisor and/or anyone on Advisor's behalf, is, regardless of the terms of this Agreement, an employee of the Company, then payments to Advisor hereunder shall be reduced effective retroactively as of the beginning of the Term so that 60% of such payments shall constitute salary payments, and 40% of such payments shall constitute payment by the Company for all other Advisor statutory rights and benefits as employee of the Company throughout the Term. Advisor further consents that the Company may offset any amounts due to him under this Section from any amounts payable to Advisor under this Agreement. Advisor shall indemnify the Company for any loss or expenses incurred by the Company if it were determined that an alleged employer/employee relationship existed between the Advisor and the Company.\\nEntire Agreement; No Waiver or Assignment: This Agreement together with the Exhibits, which are attached hereto and incorporated herein, set forth the entire Agreement between the parties and shall supersede all previous communications and agreements between the parties, either oral or written. This Agreement may be modified only by a written amendment executed by both parties. This Agreement may not be assigned, sold, delegated or transferred in any manner by Advisor for any reason whatsoever. The Company may assign the Agreement to a successor of all or substantially all of its assets or business, provided the assignee has assumed the Company’s obligations under this Agreement.\\nGoverning Law and Jurisdiction: This Agreement shall be governed by the laws of the State of Israel, without giving effect to the rules respecting conflicts of laws. The parties consent to the exclusive jurisdiction and venue of Tel Aviv courts for any lawsuit filed arising from or relating to this Agreement.\\nNotices: Notices under this Agreement shall be delivered to the party’s email address as follows: Company: info@cloudcorp.com, Advisor: jackrobinson@gmail.com, or in any the other means with a proof of acceptance by the other party.\\nIN WITNESS WHEREOF the parties have executed this Agreement as of the date first above written.\", metadata={'source': './../prompts/context.txt'}),\n",
       " Document(page_content='In performing the Services, Advisor shall devote his time, know-how, expertise, talent, experience and best efforts and attention to the provision of the Services, as shall be reasonably required by the Company. Advisor shall render the Services in a diligent manner and at a high professional standard for the benefit of the Company and shall perform and discharge well and faithfully, with devotion, honesty and fidelity, his obligations hereunder.\\nAdvisor further agrees and undertakes to (i) comply with all the Company\\'s policies, procedures and objectives, as in effect from time to time; (ii) adhere to any applicable law or provision, pertaining to his services; (iii) not take any action with the intention that the same will cause material damage to the good name of the Company; (iv) keep the contents of this Agreement confidential and not to disclose the existence or contents of this Agreement to any third party without the prior written consent of the Company.\\nTime Tracking: Advisor shall provide the Company with a written report, in a format acceptable by the Company, setting forth the number of hours in which he provided the Services, on a daily basis, as well as an aggregated monthly report at the last day of each calendar month.\\nNo Conflicts: Advisor represents that there is no contractual or other legal restriction preventing or limiting him/her from entering into this Agreement or performing any of his/her obligations hereunder. Advisor shall immediately and without delay inform the Company of any affairs and/or matters that might constitute a conflict of interest with his/her services to Company and/or the interests of the Company. Advisor agrees to indemnify, defend and hold harmless the Company and its directors, officers and employees against all claims, liabilities, and costs, including reasonable attorneys\\' fees in connection with any breach by Advisor, of any obligations pursuant to a prior or existing engagement with any other third party, including without limitation other employers or clients.\\nTerm: The term of this Agreement shall commence on the Effective Date and shall continue until terminated in accordance with the provisions herein (the \"Term\").\\nTermination: Either party, at any given time, may terminate this Agreement, for any reason whatsoever, with or without cause, upon fourteen (14) days’ prior written notice. Notwithstanding the above, the Company may terminate this Agreement immediately and without prior notice if Advisor refuses or is unable to perform the Services, or is in breach of any provision of this Agreement.\\nCompensation:\\nAs full and sole consideration for the Services, and subject to the performance of the Services, the Company shall pay the Advisor, against an invoice provided to the Company by Advisor, hourly fees at a rate of USD 9 (nine) per Billable Hour as defined below, limited to a maximum of USD 1,500 per month (the \"Fees\"). In addition, the Company shall pay the advisor USD 100 per month to finance a workspace for the Advisor, as long as the Advisor actually hires a professional workspace (the “Workspace Expense”). Advisor will not be entitled to any additional fees or expense reimbursement whatsoever, except as expressly provided for in this Agreement.\\nBillable Hour: Net time devoted to the provisioning of the Services, without calculating meals, travels or any other overhead time borne by the Advisor.', metadata={'source': './../prompts/context.txt'})]"
      ]
     },
     "execution_count": 20,
     "metadata": {},
     "output_type": "execute_result"
    }
   ],
   "source": [
    "db.similarity_search(user_query,k=3)"
   ]
  },
  {
   "cell_type": "code",
   "execution_count": 21,
   "metadata": {},
   "outputs": [],
   "source": [
    "from langchain.chat_models import ChatCohere\n",
    "from langchain.chains.conversation.memory import ConversationBufferWindowMemory\n",
    "from langchain.chains import RetrievalQA\n",
    "\n",
    "llm = ChatCohere(temperature=0.1, model='text-davinci-003')\n",
    "# conversational memory\n",
    "conversational_memory = ConversationBufferWindowMemory(\n",
    "    memory_key='chat_history',\n",
    "    k=5,\n",
    "    return_messages=True\n",
    ")\n",
    "# retrieval qa chain\n",
    "qa = RetrievalQA.from_chain_type(\n",
    "    llm=llm,\n",
    "    chain_type=\"stuff\",\n",
    "    retriever=db.as_retriever()\n",
    ")"
   ]
  },
  {
   "cell_type": "code",
   "execution_count": 22,
   "metadata": {},
   "outputs": [
    {
     "name": "stderr",
     "output_type": "stream",
     "text": [
      "/Users/ekramkedir/Desktop/week-12/Contract-Advisor-RAG/.venv/lib/python3.11/site-packages/langchain_core/_api/deprecation.py:117: LangChainDeprecationWarning: The function `run` was deprecated in LangChain 0.1.0 and will be removed in 0.2.0. Use invoke instead.\n",
      "  warn_deprecated(\n"
     ]
    },
    {
     "data": {
      "text/plain": [
       "'I am not able to provide you with a legal advice, however, I can provide you with information that might be helpful.\\n\\nGenerally speaking, in contract law, an agreement is a promise or a set of promises made between two or more parties. These promises are legally binding, meaning that the involved parties must perform them in good faith. These promises are also enforceable by law should the parties fail to fulfill their obligations. \\n\\nAssignments are considered promises under contract law, and therefore are legally enforceable. In order to fulfill the promise of an assignment, a party would have to fulfill the conditions set in the agreement. In other words, if the agreement you are party to allows for assignments, the other party would have to accept the assignment, otherwise, the promise to assign becomes null and void. \\n\\nIt would be a good idea to direct these questions to a legal professional to obtain advice on the legal implications of the assignment of an agreement on the obligations you have as a party of an agreement.'"
      ]
     },
     "execution_count": 22,
     "metadata": {},
     "output_type": "execute_result"
    }
   ],
   "source": [
    "qa.run(user_query)"
   ]
  },
  {
   "cell_type": "code",
   "execution_count": null,
   "metadata": {},
   "outputs": [],
   "source": [
    "from langchain.agents import Tool\n",
    "\n",
    "tools = [\n",
    "    Tool(\n",
    "        name='Knowledge Base',\n",
    "        func=qa.run,\n",
    "        description=(\n",
    "            \"You are an advanced Contract Q&A assistant designed specifically for Lizzy AI's Contract Advisor project.\" \n",
    "\"Your primary role is to facilitate queries and provide informative responses regarding contract-related inquiries.\"\n",
    "\"Use the following pieces of retrieved context to answer the question. \"\n",
    "\"If you don't know the answer, just say that you don't know.\"\n",
    "\n",
    "        )\n",
    "    )\n",
    "]"
   ]
  },
  {
   "cell_type": "code",
   "execution_count": null,
   "metadata": {},
   "outputs": [
    {
     "name": "stderr",
     "output_type": "stream",
     "text": [
      "/Users/ekramkedir/Desktop/real/Contract-Advisor-RAG/.venv/lib/python3.11/site-packages/langchain_core/_api/deprecation.py:117: LangChainDeprecationWarning: The function `initialize_agent` was deprecated in LangChain 0.1.0 and will be removed in 0.2.0. Use Use new agent constructor methods like create_react_agent, create_json_agent, create_structured_chat_agent, etc. instead.\n",
      "  warn_deprecated(\n"
     ]
    }
   ],
   "source": [
    "from langchain.agents import initialize_agent\n",
    "\n",
    "agent = initialize_agent(\n",
    "    agent='chat-conversational-react-description',\n",
    "    tools=tools,\n",
    "    llm=llm,\n",
    "    verbose=True,\n",
    "    max_iterations=3,\n",
    "    early_stopping_method='generate',\n",
    "    memory=conversational_memory\n",
    ")"
   ]
  },
  {
   "cell_type": "code",
   "execution_count": null,
   "metadata": {},
   "outputs": [
    {
     "name": "stdout",
     "output_type": "stream",
     "text": [
      "\n",
      "\n",
      "\u001b[1m> Entering new AgentExecutor chain...\u001b[0m\n",
      "\u001b[32;1m\u001b[1;3m```json\n",
      "{\n",
      "    \"action\": \"Knowledge Base\",\n",
      "    \"action_input\": \"assignment provision\"\n",
      "}\n",
      "```\u001b[0m\n",
      "Observation: \u001b[36;1m\u001b[1;3mIn the context of law, an assignment provision refers to a clause within a contract that outlines the process and conditions for the transfer of rights or obligations from one party to another. This clause specifies who can assign the contract, any restrictions on such assignments, and whether consent is required from other parties for the transfer to take place.\n",
      "\n",
      "Here are some standard components of an assignment provision: \n",
      "\n",
      "1. Assignment Clause: This clause explicitly states that the contract can be assigned, prohibiting any inference against the permissibility of assignment.\n",
      "\n",
      "2. Who Can Assign: It specifies which parties to the contract can initiate the assignment. It could be limited to the entire company, or certain named individuals or positions within a company (e.g., only the CEO or a majority shareholder).\n",
      "\n",
      "3. Procedure for Assignment: This outlines the steps required for a valid assignment. It may involve notifying the other party in writing, obtaining their consent, or including specific assignment language in the contract itself.\n",
      "\n",
      "4. Exceptions to Assignment: This section clarifies what rights or obligations cannot be assigned, often known as \"non-assignable rights.\" These could include duties of confidentiality, intellectual property rights, or rights that are personal in nature.\n",
      "\n",
      "5. Successors and Assigns: This clause deals with the binding effect of the contract on both the assignor and assignee. It ensures that the assigning party (assignor) is relieved of obligations under the contract once it's assigned, and the new party (assignee) steps into their place with comparable obligations and rights. \n",
      "\n",
      "6. Consent to Assignment: This outlines whether the other party's consent is required for an assignment to be valid. If consent is required, the clause would specify the approval process, including timing and documentation. \n",
      "\n",
      "7. Notice of Assignment: This provides guidance on how and when the assigning party should notify the other party of an assignment. Such notice usually includes information about the assignor, assignee, and the effective date of the transfer. \n",
      "\n",
      "8. Dispute Resolution: This clause establishes the method for resolving disputes related to assignments, which can range from mediation to arbitration or litigation.\n",
      "\n",
      "An assignment provision is essential in managing expectations and facilitating smoother transfers of contractual interests. It provides a clear framework for understanding when and how assignments can occur, limiting potential conflicts or surprises down the line. \n",
      "\n",
      "It's important to note that the specific language and requirements of an assignment provision can vary based on the context of the contract and relevant laws. Consulting a legal professional specializing in contract law is recommended to ensure your contract is robust and protective of your interests.\u001b[0m\n",
      "Thought:\u001b[32;1m\u001b[1;3m```json\n",
      "{\n",
      "    \"action\": \"Final Answer\",\n",
      "    \"action_input\": \"assignment provision\"\n",
      "}\n",
      "```\u001b[0m\n",
      "\n",
      "\u001b[1m> Finished chain.\u001b[0m\n"
     ]
    }
   ],
   "source": [
    "response = agent(user_query)"
   ]
  },
  {
   "cell_type": "code",
   "execution_count": null,
   "metadata": {},
   "outputs": [
    {
     "data": {
      "text/plain": [
       "{'input': 'Can the Agreement or any of its obligations be assigned?',\n",
       " 'chat_history': [HumanMessage(content='Can the Agreement or any of its obligations be assigned?'),\n",
       "  AIMessage(content='assignment provision'),\n",
       "  HumanMessage(content='Can the Agreement or any of its obligations be assigned?'),\n",
       "  AIMessage(content='assignment provision')],\n",
       " 'output': 'assignment provision'}"
      ]
     },
     "execution_count": 19,
     "metadata": {},
     "output_type": "execute_result"
    }
   ],
   "source": [
    "response"
   ]
  }
 ],
 "metadata": {
  "kernelspec": {
   "display_name": ".venv",
   "language": "python",
   "name": "python3"
  },
  "language_info": {
   "codemirror_mode": {
    "name": "ipython",
    "version": 3
   },
   "file_extension": ".py",
   "mimetype": "text/x-python",
   "name": "python",
   "nbconvert_exporter": "python",
   "pygments_lexer": "ipython3",
   "version": "3.11.7"
  }
 },
 "nbformat": 4,
 "nbformat_minor": 2
}
